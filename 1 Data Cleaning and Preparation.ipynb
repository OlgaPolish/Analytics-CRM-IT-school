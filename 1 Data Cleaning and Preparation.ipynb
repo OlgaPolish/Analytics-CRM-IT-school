{
 "cells": [
  {
   "cell_type": "markdown",
   "id": "fa56c2c3-523d-4778-b83b-1e3dbb657a52",
   "metadata": {},
   "source": [
    "### Python DA Assignment\n",
    "# 1. Data Cleaning and Preparation:\n",
    "1. Remove duplicates and irrelevant columns.\n",
    "2. Handle missing values appropriately.\n",
    "3. Convert data types for columns such as dates and numerical values."
   ]
  },
  {
   "cell_type": "code",
   "execution_count": null,
   "id": "b6aae5e9-26f0-4e25-bb9b-e01b0c1bf3c6",
   "metadata": {},
   "outputs": [],
   "source": [
    "import pandas as pd\n",
    "import numpy as np\n",
    "import pickle\n",
    "from datetime import time, timedelta"
   ]
  },
  {
   "cell_type": "markdown",
   "id": "23b52a14-3b30-401a-b86e-488a19ff95c9",
   "metadata": {},
   "source": [
    "# Contacts"
   ]
  },
  {
   "cell_type": "code",
   "execution_count": null,
   "id": "d7e82bdd-9b99-419d-a358-202e395cc3ed",
   "metadata": {},
   "outputs": [],
   "source": [
    "contacts = pd.read_excel('Contacts (Done).xlsx', dtype={'Id': str}) "
   ]
  },
  {
   "cell_type": "code",
   "execution_count": null,
   "id": "bc4b7c35-7f54-4307-926c-e9cbac7ef493",
   "metadata": {
    "scrolled": true
   },
   "outputs": [],
   "source": [
    "# Removing duplicates\n",
    "print('Duplicated:',contacts.duplicated().sum())\n",
    "contacts = contacts.drop_duplicates(ignore_index= True)\n",
    "display(contacts)\n",
    "contacts.info()"
   ]
  },
  {
   "cell_type": "code",
   "execution_count": null,
   "id": "78d7775c-9290-4304-98c0-3da13ecc68cc",
   "metadata": {},
   "outputs": [],
   "source": [
    "# Saving the number of rows before removing duplicates\n",
    "initial_rows = len(contacts)\n",
    "# Removing empty rows\n",
    "contacts = contacts.dropna(how='all')\n",
    "contacts.reset_index(drop=True, inplace=True)\n",
    "\n",
    "# Counting the number of rows after removing duplicates\n",
    "final_rows = len(contacts)\n",
    "\n",
    "# Outputting the number of removed rows\n",
    "print(f\"Removed: {initial_rows - final_rows}\")"
   ]
  },
  {
   "cell_type": "code",
   "execution_count": null,
   "id": "fc9c136a-ffba-4b5b-8bdf-09cbc6ebc94e",
   "metadata": {},
   "outputs": [],
   "source": [
    "# Getting a list of unique values in each column\n",
    "unique_values = {col: contacts[col].unique() for col in contacts.columns}\n",
    "for col, values in unique_values.items():\n",
    "    print(f\"\\nUnique values in column '{col}':\")\n",
    "    print(values)\n",
    "# Checking the number of unique values in each column\n",
    "contacts.nunique()"
   ]
  },
  {
   "cell_type": "markdown",
   "id": "95789657-96ce-45da-bec1-f2d2409a7ee0",
   "metadata": {},
   "source": [
    "## Analysis and Suggestions on Data Types: \n",
    "The contacts dataframe contains a total of 18548 rows. \n",
    "- **Created Time , Modified Time** - changing to datetime for further time series analysis.\n",
    "- **Contact Owner Name** -  changing to categorical data type."
   ]
  },
  {
   "cell_type": "code",
   "execution_count": null,
   "id": "0bce38a2-1318-49aa-9969-614b9603e81b",
   "metadata": {},
   "outputs": [],
   "source": [
    "contacts['Modified Time'] = pd.to_datetime(contacts['Modified Time'], format='%d.%m.%Y %H:%M')\n",
    "contacts['Created Time'] = pd.to_datetime(contacts['Created Time'], format='%d.%m.%Y %H:%M')\n",
    "contacts['Contact Owner Name'] = contacts['Contact Owner Name'].astype('category')\n",
    "contacts.head()"
   ]
  },
  {
   "cell_type": "code",
   "execution_count": null,
   "id": "2fae6239-0306-42e7-b273-1ac66062548e",
   "metadata": {
    "scrolled": true
   },
   "outputs": [],
   "source": [
    "# Analyzing the number of contacts.\n",
    "contacts['Contact Owner Name'].value_counts()"
   ]
  },
  {
   "cell_type": "markdown",
   "id": "adea0e03-329a-4756-98d6-18877b07f804",
   "metadata": {},
   "source": [
    "### Incorrect entry in the 'Contact Owner Name' column - FALSE"
   ]
  },
  {
   "cell_type": "code",
   "execution_count": null,
   "id": "501aad78-71a6-4aa1-b5ba-b6fd32d0b3c8",
   "metadata": {},
   "outputs": [],
   "source": [
    "contacts['Contact Owner Name'] = contacts['Contact Owner Name'].replace(\"False\", \"Unknown\")"
   ]
  },
  {
   "cell_type": "code",
   "execution_count": null,
   "id": "49d31211-b310-48a2-8cb5-1ce03c0346d4",
   "metadata": {},
   "outputs": [],
   "source": [
    "contacts.info()"
   ]
  },
  {
   "cell_type": "code",
   "execution_count": null,
   "id": "30f7ae03-2c6e-4625-ae5e-7555011d6ca9",
   "metadata": {},
   "outputs": [],
   "source": [
    "# Saving the dataframe to a .pkl file for easy loading in Jupyter Notebook\n",
    "contacts.to_pickle('contacts_df.pkl')"
   ]
  },
  {
   "cell_type": "code",
   "execution_count": null,
   "id": "6e6a7c18-c6b3-4801-9513-bb4c1ad48380",
   "metadata": {},
   "outputs": [],
   "source": [
    "# contacts = pd.read_pickle('contacts_df.pkl')"
   ]
  },
  {
   "cell_type": "code",
   "execution_count": null,
   "id": "a2809058-1816-4b29-aafa-6b9383d93629",
   "metadata": {},
   "outputs": [],
   "source": [
    "contacts.to_excel('contacts_df.xlsx', index=False)"
   ]
  },
  {
   "cell_type": "markdown",
   "id": "460151b0-9b76-48d2-bd5b-be3258f43e7f",
   "metadata": {},
   "source": [
    "# Calls"
   ]
  },
  {
   "cell_type": "code",
   "execution_count": null,
   "id": "4e4ab36c-f126-41cb-b673-1c4b8e9dd367",
   "metadata": {},
   "outputs": [],
   "source": [
    "calls = pd.read_excel(\"Calls (Done).xlsx\", dtype = {\"Id\": 'str', \"CONTACTID\": 'str'})"
   ]
  },
  {
   "cell_type": "code",
   "execution_count": null,
   "id": "402c93f3-7e0d-47f3-a517-720e205f69e3",
   "metadata": {
    "scrolled": true
   },
   "outputs": [],
   "source": [
    "print('Duplicated:',calls.duplicated().sum())\n",
    "calls = calls.drop_duplicates(ignore_index= True)\n",
    "display(calls)\n",
    "calls.info()\n",
    "display(calls.describe())"
   ]
  },
  {
   "cell_type": "code",
   "execution_count": null,
   "id": "148b20c1-36b0-47e1-b68f-4d90d0d9aa9c",
   "metadata": {},
   "outputs": [],
   "source": [
    "initial_rows = len(calls)\n",
    "# Removing empty rows\n",
    "calls = calls.dropna(how='all')\n",
    "calls.reset_index(drop=True, inplace=True)\n",
    "final_rows = len(calls)\n",
    "# Outputting the number of removed rows\n",
    "print(f\"Removed: {initial_rows - final_rows}\")"
   ]
  },
  {
   "cell_type": "code",
   "execution_count": null,
   "id": "fc79bc1a-bfef-4214-98ea-8309b2b11dd5",
   "metadata": {
    "scrolled": true
   },
   "outputs": [],
   "source": [
    "# Getting a list of unique values in each column\n",
    "unique_values = {col: calls[col].unique() for col in calls.columns}\n",
    "for col, values in unique_values.items():\n",
    "    print(f\"\\nUnique values in column '{col}':\")\n",
    "    print(values)\n",
    "calls.nunique()"
   ]
  },
  {
   "cell_type": "markdown",
   "id": "e874a117-6233-4919-bba9-4d33b840aeb0",
   "metadata": {},
   "source": [
    "### Removing unnecessary columns (do not carry any information)"
   ]
  },
  {
   "cell_type": "code",
   "execution_count": null,
   "id": "a58db460-39af-4370-ab6b-df016aaf5a18",
   "metadata": {},
   "outputs": [],
   "source": [
    "calls = calls.drop(columns=['Dialled Number', 'Tag'])"
   ]
  },
  {
   "cell_type": "markdown",
   "id": "fcfbd69c-b4d0-448c-85f7-97373c76f391",
   "metadata": {},
   "source": [
    "### Deleting rows with missing values in the 'CONTACTID' column (Changed my mind about deleting)"
   ]
  },
  {
   "cell_type": "code",
   "execution_count": null,
   "id": "68a38c02-8c72-4af3-bc48-d8f71cdb92b7",
   "metadata": {},
   "outputs": [],
   "source": [
    "# calls = calls.dropna(subset=['CONTACTID'])"
   ]
  },
  {
   "cell_type": "code",
   "execution_count": null,
   "id": "edf06a20-aab6-4706-abe8-f31ee84a3400",
   "metadata": {},
   "outputs": [],
   "source": [
    "print(calls.dtypes)"
   ]
  },
  {
   "cell_type": "markdown",
   "id": "6f67e1e0-9c56-45fd-8c50-da5a4352f196",
   "metadata": {},
   "source": [
    "## Analysis and recommendations for data types ** Calls ** :\n",
    "The Calls dataframe contains a total of 91941 rows.\n",
    "- ** Call Start Time ** - changing to datetime for further time series analysis\n",
    "- ** Call Owner Name **, ** Call Type **, ** Call Status **, ** Outgoing Call Status **, ** Scheduled in CRM ** - changing to categorical data type\n",
    "- ** Call Duration (in seconds) ** - changing to int64 (integers)"
   ]
  },
  {
   "cell_type": "markdown",
   "id": "2d5e7118-d60f-4dbc-a98d-ed96f3ce6105",
   "metadata": {},
   "source": [
    "Call Status: Includes:\n",
    "+ Attended Dialled: Attended Calls\n",
    "+ Unattended Dialled: Unattended Calls\n",
    "+ Missed: Missed Calls\n",
    "+ Received: Received Calls\n",
    "+ Scheduled Attended Delay: Scheduled Attended Calls with Delay\n",
    "+ Scheduled Unattended Delay: Scheduled Unattended Calls with Delay\n",
    "+ Scheduled Attended: Scheduled Attended Calls\n",
    "+ Scheduled Unattended: Scheduled Unattended Calls\n",
    "+ Overdue: Overdue Calls\n",
    "+ Cancelled: Cancelled Calls\n",
    "+ Scheduled: Scheduled Calls"
   ]
  },
  {
   "cell_type": "code",
   "execution_count": null,
   "id": "827cd75e-7344-4631-a34e-724264c5a29a",
   "metadata": {},
   "outputs": [],
   "source": [
    "# Excluding certain call statuses from being replaced with 0, because for calls with such statuses\n",
    "# duration does not make sense, so we replace it with 0"
   ]
  },
  {
   "cell_type": "code",
   "execution_count": null,
   "id": "b58956b0-2d5b-43cb-bd9d-1d2609aaaa64",
   "metadata": {},
   "outputs": [],
   "source": [
    "# List of statuses for which empty values are replaced with 0\n",
    "zero_statuses = [ 'Unattended Dialled' , 'Missed' , 'Cancelled' , 'Scheduled Unattended' , 'Overdue' , 'Scheduled Unattended Delay' ]\n",
    "\n",
    "# Calculating the median for non-zero values (excluding NaN)\n",
    "median_duration = calls [ calls [ 'Call Duration (in seconds)' ] . notna ( ) & ( calls [ 'Call Duration (in seconds)' ] > 0 ) ] [ 'Call Duration (in seconds)' ] . median ( )\n",
    "\n",
    "# If the value is missing and the call status is in the exception list, replace it with 0\n",
    "# Otherwise, replace it with the median\n",
    "calls [ 'Call Duration (in seconds)' ] = calls . apply (\n",
    "lambda row: 0 if row [ 'Call Status' ] in zero_statuses and pd . isna ( row [ 'Call Duration (in seconds)' ] )\n",
    "else row [ 'Call Duration (in seconds)' ] if not pd . isna ( row [ 'Call Duration (in seconds)' ] )\n",
    "else median_duration ,\n",
    "axis = 1\n",
    ")"
   ]
  },
  {
   "cell_type": "code",
   "execution_count": null,
   "id": "c12cabe1-9c9c-4bd4-9f16-ad93e67eb88f",
   "metadata": {},
   "outputs": [],
   "source": [
    "# Outgoing Call Status - replacing missing values with 'Unknown (changed my mind)'\n",
    "# calls['Outgoing Call Status'] = calls['Outgoing Call Status'].fillna('Unknown').astype('category')\n",
    "# Call scheduling - replaced with values corresponding to the column name and then filled empty values with 'Unknown'\n",
    "calls['Scheduled in CRM'] = calls['Scheduled in CRM'].replace(0, 'NO')\n",
    "calls['Scheduled in CRM'] = calls['Scheduled in CRM'].replace(1, 'Yes')\n",
    "# calls['Scheduled in CRM'] = calls['Scheduled in CRM'].fillna('Unknown') # changed my mind\n",
    "calls['Scheduled in CRM'] = calls['Scheduled in CRM'].astype('category')\n",
    "\n",
    "# Call start time: converting to minute precision\n",
    "calls['Call Start Time'] = pd.to_datetime(calls['Call Start Time'], format=\"%d.%m.%Y %H:%M\")\n",
    "\n",
    "calls['Call Owner Name'] = calls['Call Owner Name'].astype('category')\n",
    "calls['Call Type'] = calls['Call Type'].astype('category')\n",
    "calls['Call Status'] = calls['Call Status'].astype('category')\n"
   ]
  },
  {
   "cell_type": "code",
   "execution_count": null,
   "id": "0c063c3a-14cb-468c-8574-b1d3c3012244",
   "metadata": {},
   "outputs": [],
   "source": [
    "calls.info()"
   ]
  },
  {
   "cell_type": "code",
   "execution_count": null,
   "id": "5c51275d-8a1a-4dc3-a5fa-afc34648396d",
   "metadata": {},
   "outputs": [],
   "source": [
    "display(calls.describe())"
   ]
  },
  {
   "cell_type": "code",
   "execution_count": null,
   "id": "5bc71fa7-cbda-4e45-8566-ef03acb47631",
   "metadata": {},
   "outputs": [],
   "source": [
    "# Saving the dataframe to a .pkl file for convenient loading in Jupyter Notebook\n",
    "calls.to_pickle('calls_df.pkl')"
   ]
  },
  {
   "cell_type": "code",
   "execution_count": null,
   "id": "c7d3a368-bfef-4fa9-b6c7-bab9b2905e7c",
   "metadata": {},
   "outputs": [],
   "source": [
    "calls.to_excel('calls_df.xlsx', index=False)"
   ]
  },
  {
   "cell_type": "markdown",
   "id": "bcac95d3-1b49-4c15-95b7-5e7d598a01d8",
   "metadata": {},
   "source": [
    "# Spend"
   ]
  },
  {
   "cell_type": "code",
   "execution_count": null,
   "id": "08d93d91-facc-4563-85a2-dc2cc2b506d1",
   "metadata": {},
   "outputs": [],
   "source": [
    "spend = pd.read_excel('Spend (Done).xlsx', dtype={'Id': 'str'})"
   ]
  },
  {
   "cell_type": "code",
   "execution_count": null,
   "id": "5b35fc94-3a14-4b45-b3bb-618b0561cc83",
   "metadata": {
    "scrolled": true
   },
   "outputs": [],
   "source": [
    "print('Duplicated:',spend.duplicated().sum())\n",
    "spend = spend.drop_duplicates(ignore_index= True)\n",
    "display(spend)\n",
    "spend.info()"
   ]
  },
  {
   "cell_type": "code",
   "execution_count": null,
   "id": "6c78a34f-3fc7-4fb0-aace-4cd244c6b600",
   "metadata": {
    "scrolled": true
   },
   "outputs": [],
   "source": [
    "initial_rows = len(spend)\n",
    "# removing empty rows\n",
    "spend = spend.dropna(how='all')\n",
    "spend.reset_index(drop=True, inplace=True)\n",
    "display(spend)\n",
    "# Counting the number of rows after removing duplicates\n",
    "final_rows = len(spend)\n",
    "\n",
    "# Printing the number of removed rows\n",
    "print(f\"Removed empty: {initial_rows - final_rows}\")"
   ]
  },
  {
   "cell_type": "code",
   "execution_count": null,
   "id": "eba476a0-8273-410e-beaf-0aad0a4368d9",
   "metadata": {
    "scrolled": true
   },
   "outputs": [],
   "source": [
    "# Getting a list of unique values in each column\n",
    "unique_values = { col: spend[col].unique() for col in spend.columns }\n",
    "for col, values in unique_values.items():\n",
    "    print(f\"\\nUnique values in column '{col}':\")\n",
    "    print(values)\n",
    "spend.nunique()"
   ]
  },
  {
   "cell_type": "markdown",
   "id": "363e491b-ec00-470a-8096-574f26ea085a",
   "metadata": {},
   "source": [
    "## Analysis and suggestions on the data types 'Spend:   \n",
    "Total rows in the dataframe: 19,862.  \n",
    "- **Campaign, Source** have null values, which I fill with 'Unknown' and change to categorical data type  \n",
    "- **Impressions**: (Number of ad impressions) I change the data type to int32\n",
    "- **Clicks ** (Number of user clicks on the ad) I change the data type to int32\n",
    "- **AdGroup, Ad** I delete. They do not carry meaningful information for further analysis."
   ]
  },
  {
   "cell_type": "code",
   "execution_count": null,
   "id": "aa716a4c-ac80-4fac-8ea6-10801de5589d",
   "metadata": {},
   "outputs": [],
   "source": [
    "spend = spend.drop(columns=['AdGroup', 'Ad'])"
   ]
  },
  {
   "cell_type": "code",
   "execution_count": null,
   "id": "73620075-9d3d-491e-bc38-4c5a27e155d2",
   "metadata": {},
   "outputs": [],
   "source": [
    "spend['Campaign'] = spend['Campaign'].fillna('Unknown').astype('category')\n",
    "spend['Source'] = spend['Source'].fillna('Unknown').astype('category')\n",
    "spend['Impressions'] = spend['Impressions'].astype('int32')\n",
    "spend['Clicks'] = spend['Clicks'].astype('int32')"
   ]
  },
  {
   "cell_type": "code",
   "execution_count": null,
   "id": "c3d76ee3-8715-46ee-aa7e-4eb115e50573",
   "metadata": {},
   "outputs": [],
   "source": [
    "# spend[spend['Impressions']== 0][['Spend', 'Campaign', 'Impressions', 'Clicks']] #  строки, где количество показов равно нулю."
   ]
  },
  {
   "cell_type": "code",
   "execution_count": null,
   "id": "ff353cc5-c408-4d6f-97ac-a6dbe8b25834",
   "metadata": {},
   "outputs": [],
   "source": [
    "spend.info()"
   ]
  },
  {
   "cell_type": "markdown",
   "id": "77cc4450-4971-4646-b17c-c39c8d926123",
   "metadata": {},
   "source": [
    "Possible interpretations of each lead source presented in the **Source** field:\n",
    "\n",
    "1. **Facebook Ads** — The lead was obtained through advertising on the Facebook social network. This may include contextual ads or sponsored posts that the user clicked on.\n",
    "\n",
    "2. **Organic** — The lead came through organic search, meaning the user found the website or page through search engines (e.g., Google) without the involvement of paid advertising.\n",
    "\n",
    "3. **Telegram posts** — The lead was obtained through posts in the Telegram messenger, such as posts in channels or groups.\n",
    "\n",
    "4. **Google Ads** — The lead came from the Google advertising platform, through contextual advertising or ads on third-party websites launched via Google Ads.\n",
    "\n",
    "5. **YouTube Ads** — The lead was attracted through advertising on the YouTube platform, such as video ads shown before or during videos.\n",
    "\n",
    "6. **CRM** — This source indicates that the lead was obtained through internal processes of the CRM system, possibly through internal data, repeat contacts, or automated funnels.\n",
    "\n",
    "7. **Webinar** — The lead was obtained as a result of participating in a webinar. This may involve the user's registration or participation in an educational or promotional online event.\n",
    "\n",
    "8. **SMM** — The lead came through social media marketing (SMM), which implies promotion through social networks but does not specify the platform.\n",
    "\n",
    "9. **TikTok Ads** — The lead was obtained through advertising on the TikTok platform, where short videos were used to attract the audience.\n",
    "\n",
    "10. **Bloggers** — The lead came thanks to collaborations with bloggers who may have mentioned the product or service in their posts, videos, or reviews.\n",
    "\n",
    "11. **Partnership** — The lead was obtained through partnership programs or collaborations with other companies or organizations.\n",
    "\n",
    "12. **Test** — The source is marked as \"Test,\" which may indicate that the lead was obtained as part of a test campaign or experiment.\n",
    "\n",
    "13. **Offline** — The lead came through offline sources, such as personal meetings, events, conferences, or other forms of non-digital interaction.\n",
    "\n",
    "14. **NaN** — An empty value, indicating the absence of data about the lead source.\n",
    "\n",
    "These sources help the company track where leads come from and assess the effectiveness of various marketing and customer acquisition channels."
   ]
  },
  {
   "cell_type": "code",
   "execution_count": null,
   "id": "370c602c-c82b-44d9-a20b-a96aed5f784f",
   "metadata": {},
   "outputs": [],
   "source": [
    "# Saving the dataframe to a .pkl file for easy loading in Jupyter Notebook\n",
    "spend.to_pickle('spend_df.pkl')"
   ]
  },
  {
   "cell_type": "code",
   "execution_count": null,
   "id": "56e90e02-24a8-414f-9125-f2e51035d319",
   "metadata": {},
   "outputs": [],
   "source": [
    "spend.to_excel('spend_df.xlsx', index=False)"
   ]
  },
  {
   "cell_type": "markdown",
   "id": "14c4473c-45f0-49dc-9894-dd5373d0887e",
   "metadata": {},
   "source": [
    "# Deals"
   ]
  },
  {
   "cell_type": "code",
   "execution_count": null,
   "id": "fb62f9c4-967f-4b8f-bc72-994b89704854",
   "metadata": {
    "scrolled": true
   },
   "outputs": [],
   "source": [
    "deals = pd.read_excel('Deals (Done).xlsx', dtype={'Id': 'str', 'Contact Name': 'str'})"
   ]
  },
  {
   "cell_type": "code",
   "execution_count": null,
   "id": "6565c46a-6a79-4ce7-9a23-7ca9436859e5",
   "metadata": {
    "scrolled": true
   },
   "outputs": [],
   "source": [
    "# Removal of duplicates\n",
    "print('Duplicated:',deals.duplicated().sum())\n",
    "deals = deals.drop_duplicates(ignore_index= True)\n",
    "display(deals)"
   ]
  },
  {
   "cell_type": "code",
   "execution_count": null,
   "id": "e24817f6-e631-448c-a515-09794fe211cf",
   "metadata": {},
   "outputs": [],
   "source": [
    "deals.info()"
   ]
  },
  {
   "cell_type": "code",
   "execution_count": null,
   "id": "1596d15a-f26a-4987-8d21-16439741d379",
   "metadata": {},
   "outputs": [],
   "source": [
    "initial_rows = len ( deals )\n",
    "#removing empty rows\n",
    "deals = deals . dropna ( how = 'all' )\n",
    "deals . reset_index ( drop = True , inplace = True )\n",
    "final_rows = len ( deals )\n",
    "\n",
    "# Output the number of removed rows\n",
    "print ( f\"Removed empty rows: { initial_rows - final_rows } \" )\n"
   ]
  },
  {
   "cell_type": "code",
   "execution_count": null,
   "id": "3bf64ae2-0f22-405f-9888-0b9f0a364a2a",
   "metadata": {
    "scrolled": true
   },
   "outputs": [],
   "source": [
    "# Obtaining a list of unique values in each column\n",
    "unique_values = { col: deals[col].unique() for col in deals.columns }\n",
    "for col, values in unique_values.items():\n",
    "    print(f\"Unique values in column '{col}':\")\n",
    "    print(values)\n",
    "deals.nunique()"
   ]
  },
  {
   "cell_type": "markdown",
   "id": "28b3cf0a-f666-46e8-9e43-793bf2348d94",
   "metadata": {},
   "source": [
    "### Deleting rows with missing identifiers."
   ]
  },
  {
   "cell_type": "code",
   "execution_count": null,
   "id": "ab94f693-916d-4c94-b822-6b500c788c05",
   "metadata": {
    "scrolled": true
   },
   "outputs": [],
   "source": [
    "# deals = deals.dropna(subset=['Id', 'Contact Name', 'Deal Owner Name']) передумала удалять\n",
    "deals.reset_index(drop=True, inplace=True)\n",
    "deals.info()\n",
    "deals.isna().sum()"
   ]
  },
  {
   "cell_type": "markdown",
   "id": "150b0eb9-5473-4fe8-8861-ca44bf385023",
   "metadata": {},
   "source": [
    "### Analysis and Suggestions on Data Types Deals:"
   ]
  },
  {
   "cell_type": "markdown",
   "id": "47b5fd1e-1d24-4e6c-80f6-2a20e895bbe1",
   "metadata": {},
   "source": [
    "The DataFrame Deals contains a total of 21,592 rows.  \n",
    "- I will remove **Content**, **Term**, and **Page**. They do not carry meaningful information for further analysis.  \n",
    "- I will change **Quality**, **Stage**, **Lost Reason**, **Page**, **Campaign**, **Product**, **Education Type**, **City**, and **Level of Deutsch** to categorical data types.  \n",
    "- I will change **Closing Date** and **Created Time** to datetime for further time series analysis.  \n",
    "- **SLA**: I will convert it to seconds and then to datetime.  \n",
    "- **Course duration** and **Months of study**: float64 - will be converted to Int8.  \n",
    "- I will keep **Source**, **Payment Type**, **Campaign**, and **Deal Owner Name** as object types.  \n",
    "- I will leave **Initial Amount Paid** and **Offer Total Amount** as float; for missing values with completed payments, I will replace them with the average."
   ]
  },
  {
   "cell_type": "code",
   "execution_count": null,
   "id": "dcfa23e3-0e30-4c32-9cf2-314c15634ea2",
   "metadata": {},
   "outputs": [],
   "source": [
    "deals= deals.drop(columns=['Content', 'Term' , 'Page' ])"
   ]
  },
  {
   "cell_type": "code",
   "execution_count": null,
   "id": "9047ab12-f2ce-41f0-877c-2402e7b89295",
   "metadata": {},
   "outputs": [],
   "source": [
    "# Filling missing values in 'Deal Owner Name' with 'Unknown'\n",
    "deals['Deal Owner Name'] = deals['Deal Owner Name'].fillna('Unknown')\n",
    "\n",
    "# Converting 'Closing Date' to datetime format\n",
    "deals['Closing Date'] = pd.to_datetime(deals['Closing Date'], format='%d.%m.%Y')\n",
    "\n",
    "# Filling missing values in 'Quality' and converting to categorical type\n",
    "deals['Quality'] = deals['Quality'].fillna('Unknown').astype('category')\n",
    "\n",
    "# The deal is lost, but the reason for losing the deal was not recorded; replacing empty values with 'Unknown'\n",
    "mask = (deals['Stage'] == 'Lost') & (deals['Lost Reason'].isnull())\n",
    "deals.loc[mask, 'Lost Reason'] = 'Unknown'\n",
    "\n",
    "# Filling missing values in 'Campaign' and 'Source'\n",
    "deals['Campaign'] = deals['Campaign'].fillna('Unknown')\n",
    "deals['Source'] = deals['Source'].fillna('Unknown').astype('category')\n",
    "\n",
    "# Payment Type is not specified, but the deal is at a stage where this information should already be available; filling with 'Unknown'\n",
    "# mask = (deals['Stage'] == 'Waiting For Payment') | (deals['Stage'] == 'Payment Done') & (deals['Payment Type'].isnull())\n",
    "# deals.loc[mask, 'Payment Type'] = 'Unknown'\n",
    "# Filling other empty values of Payment Type with 'Non applicable'\n",
    "# deals['Payment Type'] = deals['Payment Type'].fillna('Non applicable')\n",
    "\n",
    "# Filling missing values in 'Product' and converting to categorical type\n",
    "deals['Product'] = deals['Product'].fillna('Unknown').astype('category')\n",
    "\n",
    "# Removing incorrect entries with '#REF!' in 'Education Type'\n",
    "deals = deals[deals['Education Type'] != '#REF!']\n",
    "deals['Education Type'] = deals['Education Type'].fillna('Unknown').astype('category')\n",
    "\n",
    "# Converting 'Created Time' to datetime format\n",
    "deals['Created Time'] = pd.to_datetime(deals['Created Time'], format='%d.%m.%Y %H:%M')\n",
    "\n",
    "# Filling missing values in 'Course duration' with 0 and converting to Int8\n",
    "deals['Course duration'] = deals['Course duration'].fillna(0).astype('Int8')\n",
    "\n",
    "# The fields 'Initial Amount Paid' and 'Offer Total Amount' contain erroneous data that need to be removed\n",
    "deals['Initial Amount Paid'] = deals['Initial Amount Paid'].replace('€ 3.500,00', '3500')\n",
    "deals['Initial Amount Paid'] = deals['Initial Amount Paid'].fillna(0).astype('float64')\n",
    "\n",
    "# Calculating median for 'Initial Amount Paid' where Stage == 'Payment Done'\n",
    "median_value_initial = deals.loc[deals['Stage'] == 'Payment Done', 'Initial Amount Paid'].median()\n",
    "\n",
    "# Replacing NaN and 0 with median for rows where Stage == 'Payment Done'\n",
    "deals.loc[deals['Stage'] == 'Payment Done', 'Initial Amount Paid'] = \\\n",
    "    deals.loc[deals['Stage'] == 'Payment Done', 'Initial Amount Paid'].replace({0: median_value_initial, pd.NA: median_value_initial})\n",
    "\n",
    "# Processing 'Offer Total Amount'\n",
    "deals['Offer Total Amount'] = deals['Offer Total Amount'].replace('€ 2.900,00', '2900')\n",
    "deals['Offer Total Amount'] = deals['Offer Total Amount'].replace('€ 11398,00', '11398')\n",
    "deals['Offer Total Amount'] = deals['Offer Total Amount'].fillna(0).astype('float64')\n",
    "\n",
    "# Calculating median for 'Offer Total Amount' where Stage == 'Payment Done'\n",
    "median_value_offer = deals.loc[deals['Stage'] == 'Payment Done', 'Offer Total Amount'].median()\n",
    "\n",
    "# Replacing NaN and 0 with median for rows where Stage == 'Payment Done'\n",
    "deals.loc[deals['Stage'] == 'Payment Done', 'Offer Total Amount'] = \\\n",
    "    deals.loc[deals['Stage'] == 'Payment Done', 'Offer Total Amount'].replace({0: median_value_offer, pd.NA: median_value_offer})\n",
    "\n",
    "# Printing the median for 'Offer Total Amount'\n",
    "print('Offer Total Amount median:', median_value_offer)\n",
    "print(', '.join(map('{:.2f}'.format, deals.loc[deals['Stage'] == 'Payment Done', 'Offer Total Amount'].astype(float).unique())))\n",
    "\n",
    "# Filling missing values in 'City' with 'Unknown'\n",
    "deals['City'] = deals['City'].fillna('Unknown')\n"
   ]
  },
  {
   "cell_type": "code",
   "execution_count": null,
   "id": "e915e430-b19a-4d6c-a5b2-76ab22cb7bf3",
   "metadata": {
    "scrolled": true
   },
   "outputs": [],
   "source": [
    "deals.info()"
   ]
  },
  {
   "cell_type": "markdown",
   "id": "87816eaf-1c82-4f55-9a9d-1271c9a5b972",
   "metadata": {},
   "source": [
    "### Analysis and normalization of the 'Months of study' field - The number of months a student has studied \n",
    "(decided that this does not need to be done, as a person could have paid but then did not attend the training)"
   ]
  },
  {
   "cell_type": "code",
   "execution_count": null,
   "id": "575747d1-4d8e-414c-894c-8dec443226eb",
   "metadata": {},
   "outputs": [],
   "source": [
    "# The deal has financial parameters, but there is no information about the duration of the training - I fill it with the value from 'Course duration'\n",
    "# Initial Amount Paid > 0 (which means some advance payment was made).\n",
    "# Offer Total Amount > 0 (which means the total amount of the offer is also positive)\n",
    "\n",
    "# condition = (\n",
    "# (deals['Months of study'] == 0) |\n",
    "\n",
    "# (deals['Months of study'].isna())\n",
    "# ) & (\n",
    "# (deals['Initial Amount Paid'] > 0) &\n",
    "# (deals['Offer Total Amount'] > 0)\n",
    "# )\n",
    "# deals.loc[condition, 'Months of study'] = deals.loc[condition, 'Course duration']\n",
    "\n",
    "# I filled the remaining empty values with 0 and converted to int8 (whole numbers)\n",
    "deals['Months of study'] = deals['Months of study'].fillna(0).astype('Int8')\n",
    "deals['Months of study'].unique()"
   ]
  },
  {
   "cell_type": "markdown",
   "id": "1239762c-b816-4c01-b072-a05972380238",
   "metadata": {},
   "source": [
    "### Cleaning and filling the level of German: converted to uppercase"
   ]
  },
  {
   "cell_type": "code",
   "execution_count": null,
   "id": "99ab3967-5bc9-4661-a608-55fbd0365022",
   "metadata": {},
   "outputs": [],
   "source": [
    "# removed all characters except A1|A2|А1|А2|B1|Б1|Б2|B2|C1|C2|С1|С2, replaced Cyrillic with Latin.\n",
    "deals['Level of Deutsch'] = deals['Level of Deutsch'].str.upper()\\\n",
    "                             .str.extract(r\"^(A1|A2|А1|А2|B1|Б1|Б2|B2|C1|C2|С1|С2)$\", expand=False)\\\n",
    "                             .replace({'А1': 'A1', 'А2': 'A2','Б1': 'B1', 'Б2': 'B2','С1': 'C1', 'С2': 'C2'})\\\n",
    "                             .fillna('Unknown')\n",
    "deals['Level of Deutsch'].unique()"
   ]
  },
  {
   "cell_type": "code",
   "execution_count": null,
   "id": "aa47013f-46e6-4164-ad95-506c0ec59834",
   "metadata": {},
   "outputs": [],
   "source": [
    "deals.isnull().sum()"
   ]
  },
  {
   "cell_type": "markdown",
   "id": "4d650aa4-5e7f-464a-a5d6-110c73cbcbd8",
   "metadata": {},
   "source": [
    "**Closing Date** - Missing values may indicate open deals or the absence of a recorded date. Therefore, I am filling them with '05.05.2025' for further analysis."
   ]
  },
  {
   "cell_type": "code",
   "execution_count": null,
   "id": "8004befc-4560-49dc-907d-4125a2072964",
   "metadata": {},
   "outputs": [],
   "source": [
    "deals['Closing Date'] = deals['Closing Date'].fillna('05.05.2025')"
   ]
  },
  {
   "cell_type": "markdown",
   "id": "f13f397d-ad16-4873-ac93-e905e1332262",
   "metadata": {},
   "source": [
    "### Normalization of the SLA field - The service level agreement duration indicating response time"
   ]
  },
  {
   "cell_type": "code",
   "execution_count": null,
   "id": "9948d3ad-f31e-4b1d-a500-3ef162e0d340",
   "metadata": {},
   "outputs": [],
   "source": [
    "deals['SLA']"
   ]
  },
  {
   "cell_type": "code",
   "execution_count": null,
   "id": "da2e9c7d-a8de-44c4-b8fe-10d875a847be",
   "metadata": {},
   "outputs": [],
   "source": [
    "# We will bring the SLA time to a consistent format - seconds.\n",
    "\n",
    "deals['SLA'] = deals['SLA'].fillna(pd.Timedelta(seconds=0))\n",
    "deals['SLA'] = deals['SLA'].astype(str)\n",
    "deals['SLA'] = deals['SLA'].replace({\"null\": np.nan})\n",
    "\n",
    "deals['SLA'] = pd.to_timedelta(deals['SLA'])\n",
    "deals['SLA'] = deals['SLA'].dt.total_seconds() / 3600\n",
    "deals['SLA']"
   ]
  },
  {
   "cell_type": "code",
   "execution_count": null,
   "id": "f6f5d7b9-b15a-4b8c-9f35-8e4eeaa02b39",
   "metadata": {},
   "outputs": [],
   "source": [
    "# We convert seconds back into the timedelta format\n",
    "deals['SLA'] = pd.to_timedelta(deals['SLA'], unit='h')\n",
    "deals['SLA']"
   ]
  },
  {
   "cell_type": "code",
   "execution_count": null,
   "id": "fcc88695-6303-4fe7-b42c-feced4d450a1",
   "metadata": {},
   "outputs": [],
   "source": [
    "deals.describe().T"
   ]
  },
  {
   "cell_type": "markdown",
   "id": "0d823a6f-1cfb-4c0b-b0b2-218c1948ae20",
   "metadata": {},
   "source": [
    "### I will convert erroneous values or complete addresses in the City field into city names."
   ]
  },
  {
   "cell_type": "code",
   "execution_count": null,
   "id": "6fb83447-18c3-4c82-abd5-0a7141e2af63",
   "metadata": {},
   "outputs": [],
   "source": [
    "deals['City'] = deals['City'].replace('Karl-Liebknecht str. 24, Hildburghausen, Thüringen', 'Thüringen')\n",
    "deals['City'] = deals['City'].replace('Halle (Saale)', 'Halle')\n",
    "deals['City'] = deals['City'].replace('Vor Ebersbach 1, 77761 Schiltach', 'Schiltach')\n",
    "deals['City'] = deals['City'].replace('Poland , Gdansk , Al. Grunwaldzka 7, ap. 1a', 'Gdansk')\n",
    "deals['City'] = deals['City'].replace('-', 'Unknown')"
   ]
  },
  {
   "cell_type": "markdown",
   "id": "250ec685-e277-4844-a576-205ba8a4705c",
   "metadata": {},
   "source": [
    "### Analysis of Closing Date and Created Time Fields  \n",
    "**Created Time**: The timestamp when the deal was created.  \n",
    "**Closing Date**: The date the deal was closed, if applicable."
   ]
  },
  {
   "cell_type": "code",
   "execution_count": null,
   "id": "4e085ab9-3f00-475e-951f-9f84072f0dc4",
   "metadata": {},
   "outputs": [],
   "source": [
    "# Removing time, keeping only the date\n",
    "deals['Closing Date'] = pd.to_datetime(deals['Closing Date']).dt.date\n",
    "deals['Created Time'] = pd.to_datetime(deals['Created Time']).dt.date\n",
    "# Now we can perform comparison with 'Closing Date'\n",
    "check_time = deals[deals['Closing Date'] < deals['Created Time']].copy()\n",
    "\n",
    "# Extracting columns 'Closing Date' and 'Created Time'\n",
    "print(check_time[['Created Time', 'Closing Date']])\n",
    "len(check_time)"
   ]
  },
  {
   "cell_type": "markdown",
   "id": "2ff9c0b3-4855-4907-b0d9-3619cb410a3b",
   "metadata": {},
   "source": [
    "I assumed that these dates were filled in incorrectly and so I'm switching them."
   ]
  },
  {
   "cell_type": "code",
   "execution_count": null,
   "id": "1ba9a499-92c8-4b04-9d1d-1adc9e04f1c1",
   "metadata": {},
   "outputs": [],
   "source": [
    "# We swap the values in 'Closing Date' and 'Created Time'\n",
    "deals.loc[check_time.index, ['Closing Date', 'Created Time']] = check_time[['Created Time', 'Closing Date']].values"
   ]
  },
  {
   "cell_type": "code",
   "execution_count": null,
   "id": "943bebc9-9c86-4567-97c3-2726cd11d63e",
   "metadata": {},
   "outputs": [],
   "source": [
    "# The data type in the field 'Closing Date' and 'Created Time' \n",
    "# was changed when processing the call table. Changing to datetime.\n",
    "deals['Closing Date'] = pd.to_datetime(deals['Closing Date'], format='%d.%m.%Y')\n",
    "deals['Created Time'] = pd.to_datetime(deals['Created Time'], format='%d.%m.%Y')"
   ]
  },
  {
   "cell_type": "code",
   "execution_count": null,
   "id": "e4d771f5-6dcb-461a-815b-432f85b33dbe",
   "metadata": {
    "scrolled": true
   },
   "outputs": [],
   "source": [
    "deals.info()\n",
    "# deals.isna().sum()"
   ]
  },
  {
   "cell_type": "code",
   "execution_count": null,
   "id": "990261f1-f4bd-4449-baa4-c6cceabef536",
   "metadata": {},
   "outputs": [],
   "source": [
    "# Saving the dataframe to a .pkl file for easy loading in Jupyter Notebook\n",
    "deals.to_pickle('deals_df.pkl')"
   ]
  },
  {
   "cell_type": "code",
   "execution_count": null,
   "id": "ffefc1c2-8784-40f9-a527-03630566be52",
   "metadata": {},
   "outputs": [],
   "source": [
    "deals.to_excel('deals_df.xlsx', index=False)"
   ]
  },
  {
   "cell_type": "markdown",
   "id": "edd9e6e7-8663-4676-b43a-d662603e544d",
   "metadata": {},
   "source": [
    "Interpretation of the 'Stage' Field Values:  \n",
    "+ **New Lead:** A new potential client who has not yet been processed.  \n",
    "+ **Lost:** A client who has been lost or has declined to cooperate.  \n",
    "+ **Need a consultation:** A client who requires a consultation.  \n",
    "+ **Need To Call:** A client who needs to be called.  \n",
    "+ **Call Delayed:** A client with whom the call has been postponed.  \n",
    "+ **Qualified:** A client who has been qualified and is ready for further interaction.  \n",
    "+ **Registered on Webinar:** A client who has registered for the webinar.  \n",
    "+ **Waiting For Payment:** A client awaiting payment.  \n",
    "+ **Need to Call - Sales:** A client who needs to be called for a sales inquiry.  \n",
    "+ **Test Sent:** A client to whom a test offer has been sent.  \n",
    "+ **Payment Done:** A client who has made a payment.  \n",
    "+ **Registered on Offline Day:** A client who has registered for an offline event.  \n",
    "+ **Free Education:** A client who received free education.  \n",
    "+ **nan:** A value that is undefined or missing."
   ]
  },
  {
   "attachments": {
    "f683f12e-5ade-4e2d-a049-565c89351efc.png": {
     "image/png": "[encoded data removed]"
    }
   },
   "cell_type": "markdown",
   "id": "4a97a020-7b72-41de-ab05-e18aa167e8c8",
   "metadata": {},
   "source": [
    "![image.png](attachment:f683f12e-5ade-4e2d-a049-565c89351efc.png)"
   ]
  },
  {
   "cell_type": "markdown",
   "id": "08f40e56-9287-4cf8-8d42-650ec6d4860e",
   "metadata": {},
   "source": [
    "## Key Performance Indicators\n",
    "\n",
    "- **Call Delayed:** This metric has shown a downward trend from 357 in June 2024 to 189 in the same month. This may indicate an improvement in customer service quality.\n",
    "- **Payment Done:** This metric demonstrates a steady increase from 57 in July 2023 to 277 in May 2024. This may suggest an increase in sales volume or an improvement in the payment process.\n",
    "- **Registered on Webinar:** This metric peaked in October 2023 (446) and then decreased to 494 in June 2024. This may reflect changes in the company's marketing strategies.\n",
    "\n",
    "## Possible Areas for Improvement\n",
    "\n",
    "- **Need to Call - Sales:** This metric remains low, which may indicate a need to improve the process of attracting new clients.\n",
    "- **New Lead:** This metric also remains low, which may suggest a need to strengthen marketing efforts to generate new leads."
   ]
  },
  {
   "cell_type": "code",
   "execution_count": null,
   "id": "636c1f3b-9bbd-4144-8486-a940e158e015",
   "metadata": {},
   "outputs": [],
   "source": [
    "import pandas as pd\n",
    "import matplotlib.pyplot as plt\n",
    "\n",
    "# Loading data\n",
    "data = pd.read_pickle('deals_df.pkl')\n",
    "\n",
    "# Converting dates to datetime format\n",
    "data['Created Time'] = pd.to_datetime(data['Created Time'])\n",
    "data['Closing Date'] = pd.to_datetime(data['Closing Date'])\n",
    "\n",
    "# Calculating the duration of the deal closure\n",
    "data['Duration'] = (data['Closing Date'] - data['Created Time']).dt.days\n",
    "\n",
    "# Filtering data for analysis and creating a copy\n",
    "filtered_deals = data[(data['Duration'] > 0) & (data['Closing Date'] < pd.Timestamp('2025-05-01'))].copy()\n",
    "\n",
    "# Analyzing time trends: number of closed deals by month\n",
    "filtered_deals['Month'] = filtered_deals['Closing Date'].dt.to_period('M')\n",
    "monthly_closed_deals = filtered_deals.groupby('Month').size()\n",
    "\n",
    "# Plotting the number of closed deals by month\n",
    "plt.figure(figsize=(12, 6))\n",
    "monthly_closed_deals.plot(kind='bar', color='skyblue')\n",
    "plt.title('Number of Closed Deals by Month')\n",
    "plt.xlabel('Months')\n",
    "plt.ylabel('Number of Deals')\n",
    "plt.xticks(rotation=45)\n",
    "plt.grid(axis='y')\n",
    "plt.show()\n",
    "\n",
    "# Analyzing the duration of deals\n",
    "plt.figure(figsize=(12, 6))\n",
    "plt.hist(filtered_deals['Duration'], bins=30, color='lightgreen', edgecolor='black')\n",
    "plt.title('Distribution of Deal Closure Duration')\n",
    "plt.xlabel('Number of Days')\n",
    "plt.ylabel('Frequency')\n",
    "plt.grid(axis='y')\n",
    "plt.show()\n",
    "\n",
    "# Analyzing deal quality\n",
    "quality_counts = data['Quality'].value_counts()\n",
    "\n",
    "# Plotting the distribution of deal quality\n",
    "plt.figure(figsize=(12, 6))\n",
    "quality_counts.plot(kind='bar', color='coral')\n",
    "plt.title('Distribution of Deal Quality')\n",
    "plt.xlabel('Deal Quality')\n",
    "plt.ylabel('Number of Deals')\n",
    "plt.xticks(rotation=45)\n",
    "plt.grid(axis='y')\n",
    "plt.show()\n",
    "\n",
    "# Analyzing by marketing campaigns\n",
    "campaign_counts = data['Campaign'].value_counts()\n",
    "\n",
    "# Plotting the distribution of deals by campaigns\n",
    "plt.figure(figsize=(12, 6))\n",
    "campaign_counts.plot(kind='bar', color='gold')\n",
    "plt.title('Distribution of Deals by Marketing Campaigns')\n",
    "plt.xlabel('Campaign')\n",
    "plt.ylabel('Number of Deals')\n",
    "plt.xticks(rotation=45)\n",
    "plt.grid(axis='y')\n",
    "plt.show()\n"
   ]
  },
  {
   "cell_type": "code",
   "execution_count": null,
   "id": "9a85bdfc-afda-4f34-9da9-69ba7a59a002",
   "metadata": {},
   "outputs": [],
   "source": [
    "import pandas as pd\n",
    "import plotly.graph_objects as go\n",
    "\n",
    "# Loading data\n",
    "deals = pd.read_pickle('deals_df.pkl')\n",
    "deals['Closing Date'] = pd.to_datetime(deals['Closing Date'], format='%d.%m.%Y')\n",
    "deals = deals[deals['Closing Date'] <= pd.Timestamp('2024-08-01')]\n",
    "deals['Month'] = deals['Closing Date'].dt.to_period('M')\n",
    "\n",
    "# Grouping data\n",
    "grouped_data = deals.groupby(['Month', 'Quality'], observed=False).size().unstack(fill_value=0)\n",
    "\n",
    "# Creating the plot\n",
    "fig = go.Figure()\n",
    "\n",
    "for column in grouped_data.columns:\n",
    "    fig.add_trace(go.Bar(\n",
    "        x=grouped_data.index.astype(str),\n",
    "        y=grouped_data[column],\n",
    "        name=str(column),\n",
    "        opacity=0.9\n",
    "    ))\n",
    "\n",
    "fig.update_layout(\n",
    "    barmode='stack',\n",
    "    title='Distribution of Number and Quality of Deals',\n",
    "    xaxis_title='Month of Deal Closure',\n",
    "    yaxis_title='Number of Deals',\n",
    "    xaxis={'tickangle': 45},\n",
    "    legend_title='Deal Quality',\n",
    "    template='plotly_white',\n",
    "    height=500,\n",
    "    width=900\n",
    ")\n",
    "\n",
    "fig.show()\n"
   ]
  },
  {
   "cell_type": "code",
   "execution_count": null,
   "id": "df1ab310-0435-4dab-9aeb-d9de160e362f",
   "metadata": {},
   "outputs": [],
   "source": []
  }
 ],
 "metadata": {
  "kernelspec": {
   "display_name": "Python 3 (ipykernel)",
   "language": "python",
   "name": "python3"
  },
  "language_info": {
   "codemirror_mode": {
    "name": "ipython",
    "version": 3
   },
   "file_extension": ".py",
   "mimetype": "text/x-python",
   "name": "python",
   "nbconvert_exporter": "python",
   "pygments_lexer": "ipython3",
   "version": "3.12.5"
  },
  "widgets": {
   "application/vnd.jupyter.widget-state+json": {
    "state": {},
    "version_major": 2,
    "version_minor": 0
   }
  }
 },
 "nbformat": 4,
 "nbformat_minor": 5
}
