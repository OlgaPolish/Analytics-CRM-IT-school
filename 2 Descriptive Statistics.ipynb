{
 "cells": [
  {
   "cell_type": "markdown",
   "id": "d1cecf89-2791-405c-acba-c2444e61a2eb",
   "metadata": {},
   "source": [
    "# Descriptive statistics:\n",
    "2.1. Calculate summary statistics (mean, median, mode, range) for numerical fields.\n",
    "\n",
    "2.2. Analyze categorical fields such as quality, stage, source, and product."
   ]
  },
  {
   "cell_type": "code",
   "execution_count": null,
   "id": "8a7248d1-cb41-4d5f-9021-43a188a3486d",
   "metadata": {
    "scrolled": true
   },
   "outputs": [],
   "source": [
    "import pandas as pd\n",
    "import numpy as np\n",
    "import matplotlib.pyplot as plt\n",
    "import seaborn as sns\n",
    "import datetime\n",
    "import plotly.graph_objects as go"
   ]
  },
  {
   "cell_type": "code",
   "execution_count": null,
   "id": "ce16ab9a-740a-433a-9f50-836cb798f03b",
   "metadata": {},
   "outputs": [],
   "source": [
    "deals = pd.read_pickle('deals_df.pkl')\n",
    "calls = pd.read_pickle('calls_df.pkl')\n",
    "contacts = pd.read_pickle('contacts_df.pkl')\n",
    "spend = pd.read_pickle('spend_df.pkl')"
   ]
  },
  {
   "cell_type": "code",
   "execution_count": null,
   "id": "4bb7255b-16fb-4695-8d39-c33c312f284a",
   "metadata": {},
   "outputs": [],
   "source": [
    "deals.info()"
   ]
  },
  {
   "cell_type": "markdown",
   "id": "6ce23275-8238-45f3-a34c-ec5aae5826f5",
   "metadata": {},
   "source": [
    "# Function for analyzing and visualizing numerical fields"
   ]
  },
  {
   "cell_type": "code",
   "execution_count": null,
   "id": "808f56ce-a4da-4746-b039-e54bf3c4f303",
   "metadata": {},
   "outputs": [],
   "source": [
    "def analyze_numeric_field(df, columns, df_name):\n",
    "    print(f\"\\nAnalysis of numeric fields in the dataframe '{df_name}':\")\n",
    "\n",
    "    for col in columns:\n",
    "        print(f\"Column: {col} \")\n",
    "        plt.figure(figsize=(15, 4))\n",
    "\n",
    "        # Histogram\n",
    "        plt.subplot(1, 2, 1)\n",
    "        df[col].hist(grid=False, edgecolor='black')\n",
    "        plt.xlabel(col)\n",
    "        plt.ylabel('Count')\n",
    "        plt.title(f'Histogram: {col} ')\n",
    "\n",
    "        # Boxplot\n",
    "        plt.subplot(1, 2, 2)\n",
    "        sns.boxplot(x=df[col])\n",
    "        plt.xlabel(col)\n",
    "        plt.title(f'Boxplot: {col} ')\n",
    "\n",
    "        plt.tight_layout()\n",
    "        plt.show()"
   ]
  },
  {
   "cell_type": "markdown",
   "id": "9b4d61df-0d27-47f1-86c5-e169516510ec",
   "metadata": {},
   "source": [
    "# Function for analyzing and visualizing a categorical field"
   ]
  },
  {
   "cell_type": "code",
   "execution_count": null,
   "id": "f0cb81ee-658f-4c49-9ece-891137591348",
   "metadata": {},
   "outputs": [],
   "source": [
    "def analyze_categorical_field(df, column, df_name, plot=True):\n",
    "    print(f\"\\n Analysis of the categorical field '{column}' in the DataFrame {df_name}:\")\n",
    "\n",
    "    # Counting frequencies\n",
    "    freq = df[column].value_counts()\n",
    "    total_count = freq.sum()\n",
    "    percentages = (freq / total_count * 100).round(1)\n",
    "\n",
    "    # Visualization\n",
    "    if plot:\n",
    "        fig = go.Figure()\n",
    "\n",
    "        # Adding a bar chart with counts and percentages\n",
    "        fig.add_trace(go.Bar(\n",
    "            x=freq.index,\n",
    "            y=freq.values,\n",
    "            text=[f'{count} <br><span style=\"color:red\"> {percent} %</span>' for count, percent in zip(freq.values, percentages)],\n",
    "            textposition='outside',\n",
    "            name='Field Values',\n",
    "            marker_color='#1f77b4',\n",
    "            hovertemplate='Value: %{x}<br>Count: %{y}<br>Percentage: %{text}<extra></extra>'\n",
    "        ))\n",
    "\n",
    "        # Setting up the layout\n",
    "        fig.update_layout(\n",
    "            title=f\"Distribution of values in the field '{column}' ({df_name})\",\n",
    "            xaxis_title=column,\n",
    "            yaxis_title=\"Count\",\n",
    "            bargap=0.1\n",
    "        )\n",
    "        fig.show()\n"
   ]
  },
  {
   "cell_type": "markdown",
   "id": "24a7686f-5c95-4a68-8dd9-b00cae7e087b",
   "metadata": {},
   "source": [
    "# Сontacts"
   ]
  },
  {
   "cell_type": "code",
   "execution_count": null,
   "id": "4647c900-b138-4f73-90c6-3b67dd04eb51",
   "metadata": {},
   "outputs": [],
   "source": [
    "contacts.info()"
   ]
  },
  {
   "cell_type": "code",
   "execution_count": null,
   "id": "c9869a1b-2560-408d-9293-be0713c2e82c",
   "metadata": {
    "scrolled": true
   },
   "outputs": [],
   "source": [
    "display(contacts.describe())"
   ]
  },
  {
   "cell_type": "markdown",
   "id": "e31aad4c-433b-4eb8-b936-9e2f3f373afd",
   "metadata": {},
   "source": [
    "## Analysis for numerical fields is not advisable for the 'Contacts' dataframe due to the absence of relevant numerical indicators:  \n",
    "The table contains only one numerical column: 'Id', which represents unique identifiers, presumably generated automatically. The distribution appears to be uniform, with no anomalies."
   ]
  },
  {
   "cell_type": "markdown",
   "id": "8848c2ae-8f50-46ab-9498-38a85c2fc831",
   "metadata": {},
   "source": [
    "## Analysis of categorical fields in the 'Contacts' DataFrame"
   ]
  },
  {
   "cell_type": "code",
   "execution_count": null,
   "id": "22f5ad4c-0b7a-42d2-8e27-0769e8f53eba",
   "metadata": {
    "scrolled": true
   },
   "outputs": [],
   "source": [
    "print(\"\\n=== Analysis of categorical fields in'Contacts' ===\")\n",
    "categorical_fields_contacts = ['Contact Owner Name']\n",
    "for field in categorical_fields_contacts:\n",
    "    analyze_categorical_field(contacts, field, \"contacts\")"
   ]
  },
  {
   "cell_type": "markdown",
   "id": "64ac300d-79a7-4b82-ae07-a62cf3398552",
   "metadata": {},
   "source": [
    "### Conclusions:\n",
    "\n",
    "1. The distribution of contacts among the individuals responsible for contact management (OL) is uneven. There are several OLs with a very large number of contacts (for example, Charlie Davis, Ulysses Adams, Julia Nelson), while most OLs have significantly fewer contacts.\n",
    "\n",
    "2. This may indicate that the primary workload for client interactions falls on a small group of the most active OLs. The remaining OLs are either less involved in the process or have other responsibilities.\n",
    "\n",
    "3. Such a concentration of contacts among a few Responsible Persons may create risks of overload and a decline in service quality. It is necessary to analyze the reasons and, if needed, redistribute the workload more evenly.\n",
    "\n",
    "4. It is also important to understand whether this distribution of contacts aligns with the company's strategies and goals for client management. A review of the approaches to assigning OLs and distributing responsibilities may be required.\n",
    "\n",
    "Overall, the data indicates the need for a more detailed analysis of the reasons for such a distribution of contacts among OLs and the search for opportunities to optimize this process."
   ]
  },
  {
   "cell_type": "markdown",
   "id": "243520f5-f0cd-493c-aacb-b10309fe4ff9",
   "metadata": {},
   "source": [
    "# Calls"
   ]
  },
  {
   "cell_type": "code",
   "execution_count": null,
   "id": "aad3ba15-0ac3-4c3d-82ef-46b96034ecf0",
   "metadata": {},
   "outputs": [],
   "source": [
    "calls.info()"
   ]
  },
  {
   "cell_type": "code",
   "execution_count": null,
   "id": "6547b418-454b-454e-b0a2-edfae4d8fcae",
   "metadata": {},
   "outputs": [],
   "source": [
    "display(calls.describe())"
   ]
  },
  {
   "cell_type": "markdown",
   "id": "fae4a14a-f83a-45d6-9901-584d833be20e",
   "metadata": {},
   "source": [
    "## Analysis of numerical fields in the 'Calls' dataframe"
   ]
  },
  {
   "cell_type": "markdown",
   "id": "ff442f42-c85c-4fd5-ac0f-e24daa71038d",
   "metadata": {},
   "source": [
    "**General Information**\n",
    "Number of records: 95,874.0 — this is a significant volume of data that ensures the reliability of statistical conclusions.  \n",
    "Data period: Call Start Time ranges from June 30, 2023, to June 21, 2024, covering approximately 12 months (about a year). This indicates a complete annual cycle of data and allows for the analysis of seasonality or trends over time.  \n",
    "-**Id**,**CONTACTID**: these are identifiers likely generated automatically. The distribution appears uniform, without anomalies.  \n",
    "-**Call Duration (in seconds)**:  \n",
    "  -**Mean**: 164.83 seconds (about 2 minutes and 45 seconds) — most calls are relatively short, but there are also longer ones.  \n",
    "  -**Minimum (min)**: 0.0 seconds — may indicate missed, canceled, or failed calls.  \n",
    "  -**Maximum (max)**: 7,625.0 seconds (about 2 hours and 7 minutes).  \n",
    "  -**Quantiles**:  \n",
    "    - 25% of calls lasted less than 4.0 seconds,  \n",
    "    - 50% (median) — 8.0 seconds, which may indicate a large number of missed, canceled, or quickly ended calls,  \n",
    "    - 75% of calls lasted less than 97.0 seconds (1 minute and 37 seconds).  \n",
    "  -**Standard Deviation (std)**: 401.27 seconds — significant, indicating the presence of long calls that differ greatly from the majority."
   ]
  },
  {
   "cell_type": "markdown",
   "id": "92424ecf-0b10-4a0a-8ecf-a7528f1c7ad4",
   "metadata": {},
   "source": [
    "Calls lasting more than 3000 seconds should be considered anomalous. To understand the nature of abnormally long calls, the following analysis methods can be used:\n",
    "Building a histogram of call duration distribution\n",
    "Identifying outliers using methods like box plots"
   ]
  },
  {
   "cell_type": "code",
   "execution_count": null,
   "id": "617a8c4b-7a75-4ae9-a665-d3775284c3e2",
   "metadata": {},
   "outputs": [],
   "source": [
    "columns = ['Call Duration (in seconds)']\n",
    "analyze_numeric_field(calls, columns, 'Calls')"
   ]
  },
  {
   "cell_type": "markdown",
   "id": "0b90fe24-bd03-4261-aa55-9eb7435f1c20",
   "metadata": {},
   "source": [
    "### Analysis of Long Calls:  \n",
    "I am studying the records of calls that last more than 5400 seconds (1.5 hours)"
   ]
  },
  {
   "cell_type": "code",
   "execution_count": null,
   "id": "b6eeffe1-f1ff-4241-8165-690dbc26c4c0",
   "metadata": {},
   "outputs": [],
   "source": [
    "import pandas as pd\n",
    "\n",
    "df = calls\n",
    "df_cleaned = df[df['Call Duration (in seconds)'] <= 1368.633444]\n",
    "print(f\"Number of records before outlier removal: {len(df)}\")\n",
    "print(f\"Number of records after outlier removal: {len(df_cleaned)}\")\n",
    "\n",
    "print(\"\\nDescriptive statistics of the cleaned data:\")\n",
    "print(df_cleaned['Call Duration (in seconds)'].describe())"
   ]
  },
  {
   "cell_type": "code",
   "execution_count": null,
   "id": "917806ed-0446-4c5e-8290-5913d3e9c1b5",
   "metadata": {},
   "outputs": [],
   "source": [
    "# Conversion of duration to minutes for readability\n",
    "calls['Call Duration (in minutes)'] = calls['Call Duration (in seconds)'] / 60\n",
    "\n",
    "print(calls[calls['Call Duration (in seconds)'] > 5400][['Call Type', 'Call Duration (in minutes)', 'Call Status', 'Call Start Time', 'Call Owner Name', 'Scheduled in CRM', 'Outgoing Call Status']])"
   ]
  },
  {
   "cell_type": "markdown",
   "id": "093b6cee-0898-4f9d-9f6e-ad5ab5740ad3",
   "metadata": {},
   "source": [
    "There are 7 calls that have very long durations (over 1.5 hours each). These unusually long calls may indicate complex cases that require detailed discussion or potential issues with call completion.  \n",
    "-**Call Types:**6 out of 7 calls are outgoing, and one is incoming. This may suggest that the company actively initiates lengthy conversations with clients. The outgoing calls have a status of \"Completed,\" indicating successful completion. The incoming call has a status of \"Unknown,\" assigned due to omissions during data cleaning.  \n",
    "-**Call Owners:**The calls belong to various employees: Sam Young, Eva Kent, John Doe, Charlie Davis, and Victor Barnes. This may indicate that these lengthy calls were conducted by different specialists within the organization.  \n",
    "-**Conclusion:**\n",
    "Conduct an analysis of the reasons for such long calls. Investigate whether the lengthy calls are associated with specific products or services that may require improvement or additional documentation."
   ]
  },
  {
   "cell_type": "markdown",
   "id": "895ece48-bf49-4493-884b-e7bcf4dcde76",
   "metadata": {},
   "source": [
    "## Analysis of categorical fields in the dataframe calls"
   ]
  },
  {
   "cell_type": "code",
   "execution_count": null,
   "id": "776c56d3-c6e0-4b2c-a36c-fbccfa21b3ff",
   "metadata": {},
   "outputs": [],
   "source": [
    "print(\"\\n=== Analysis of categorical fields in Calls ===\")\n",
    "categorical_fields_calls = ['Call Owner Name', 'Call Type', 'Call Status', 'Outgoing Call Status', 'Scheduled in CRM']\n",
    "for field in categorical_fields_calls:\n",
    "    analyze_categorical_field(calls, field, \"calls\")"
   ]
  },
  {
   "cell_type": "markdown",
   "id": "7b282589-640d-4081-a7b0-81e5475c14f3",
   "metadata": {},
   "source": [
    "### Выводы:\n",
    "Исходя из представленных диаграмм, можно сделать следующие выводы\n",
    "\n",
    "- Анализ распределения значений полей \"Call Status\" и \"Call Type\" показывает, что большинство звонков были успешно совершены. Так, 76,0% звонков имеют статус \"Attended Dialled\", что означает, что они были успешно установлены и завершены. Кроме того, 91,4% звонков относятся к категории \"Outbound\", то есть были исходящими.\n",
    "\n",
    "- Вместе с тем, присутствует значительная доля неотвеченных звонков - 16,7% имеют статус \"Unattended Dialled\", что говорит о том, что вызываемая сторона не ответила на эти звонки. Также 6,2% звонков были пропущены и имеют статус \"Missed\".\n",
    "\n",
    "- Положительным моментом является то, что лишь небольшая доля звонков была просрочена или отложена - 0,0% имеют статусы \"Overdue\" и \"Scheduled Unattended Delay\".\n",
    "\n",
    "- По распределению поля \"Call Owner Name\" видно, что большая часть звонков (около 39%) обрабатывается всего 5 самыми активными операторами, в то время как остальные операторы задействованы значительно меньше.\n",
    "\n",
    "- В целом, можно сделать вывод, что система обработки звонков в основном функционирует эффективно, но требует некоторых улучшений для снижения доли неотвеченных и пропущенных звонков."
   ]
  },
  {
   "cell_type": "markdown",
   "id": "83daa436-a7d5-4d2f-b21f-023666cc4015",
   "metadata": {},
   "source": [
    "# Spend"
   ]
  },
  {
   "cell_type": "code",
   "execution_count": null,
   "id": "9aa5dc11-8517-4e9d-a814-7a8ae417fbb0",
   "metadata": {},
   "outputs": [],
   "source": [
    "spend.info()"
   ]
  },
  {
   "cell_type": "code",
   "execution_count": null,
   "id": "123e9d0e-5d43-4509-b6cd-f502faeec51a",
   "metadata": {},
   "outputs": [],
   "source": [
    "display(spend.describe())"
   ]
  },
  {
   "cell_type": "markdown",
   "id": "f7c9322c-e0f0-471a-b276-4cf5d1ff6a7b",
   "metadata": {},
   "source": [
    "# Analysis of Numerical Fields in the Spend DataFrame\n",
    "\n",
    "**Number of records**- 19,862 — a sufficiently large volume of data for reliable analysis.  \n",
    "**Data period**- From July 3, 2023, to June 21, 2024 (approximately 12 months), covering a complete annual cycle.  \n",
    "**Average date**- January 10, 2024, 18:21:56 — the central point of the data, indicating an even distribution of records over time with a possible skew towards the end of 2023 and the beginning of 2024.\n",
    "\n",
    "-**Impressions Field (Number of Ad Impressions)**\n",
    "  - Average: 2,571.70 — the average value indicates a moderate number of impressions.  \n",
    "  - Median: 82.00 — significantly lower than the average, indicating a skewed distribution with outliers.  \n",
    "  - Minimum: 0 — there may be records with no impressions (e.g., inactive campaigns).  \n",
    "  - Maximum: 431,445.00 — a very high figure, indicating the presence of large campaigns or outliers.  \n",
    "  - Quantiles: 25% — 1, 50% — 82, 75% — 760.75 — 75% of the data have impressions of less than 760.75, confirming the presence of outliers.  \n",
    "  - Standard Deviation: 11,691.23 — a high value, highlighting significant deviations from the mean and the presence of anomalies.  \n",
    "  - Range: 431,445.00 - 0 = 431,445.00.  \n",
    "**Conclusion**: The distribution is heavily right-skewed due to large campaigns (outliers around 431,445 impressions). Most campaigns have low or moderate metrics (up to 760.75), which requires filtering outliers for typical value analysis.\n",
    "\n",
    "-**Spend Field (Advertising Costs)**\n",
    "  - Average: 7.53 — the average expenditure amount is relatively low.  \n",
    "  - Median: 0.74 — even lower than the average, indicating a predominance of campaigns with minimal costs.  \n",
    "  - Minimum: 0.00 — there may be records with no costs (inactive or test campaigns).  \n",
    "  - Maximum: 774.00 — a significant amount, indicating large investments.  \n",
    "  - Quantiles: 25% — 0.00, 50% — 0.74, 75% — 6.16 — 75% of records have costs of less than 6.16, confirming a low level of typical expenditures.  \n",
    "  - Standard Deviation: 27.33 — a high value relative to the mean, indicating the presence of outliers.  \n",
    "  - Range: 774.00 - 0.00 = 774.00.  \n",
    "**Conclusion**: Expenditures have a skewed distribution with a predominance of low values (median 0.74) and rare large expenses (up to 774). This may indicate a testing strategy or a focus on small campaigns with infrequent large investments.\n",
    "\n",
    "-**Clicks Field (Number of Clicks)**\n",
    "  - Average: 25.10 — the average number of clicks is moderate.  \n",
    "  - Median: 2.00 — significantly lower than the average, indicating a skewed distribution.  \n",
    "  - Minimum: 0.00 — there may be records with no clicks (e.g., impressions without interaction).  \n",
    "  - Maximum: 2,415.00 — a very high figure, indicating abnormally successful campaigns.  \n",
    "  - Quantiles: 25% — 0.00, 50% — 2.00, 75% — 13.00 — 75% of records have fewer than 13 clicks.  \n",
    "  - Standard Deviation: 87.03 — a high value, confirming the presence of outliers.  \n",
    "  - Range: 2,415.00 - 0.00 = 2,415.00.  \n",
    "**Conclusion**: The distribution of clicks is heavily right-skewed due to rare campaigns with a high number of clicks (up to 2,415). Most campaigns have low activity (median 2), which requires an analysis of effectiveness.\n",
    "\n",
    "**Relationship Between Fields**\n",
    "- CTR (Click-Through Rate): Average CTR = (25.10 / 2,571.70) * 100 ≈ 0.98%, which is below typical values (1-2%). This may indicate low user engagement.  \n",
    "- Cost Per Click (CPC): Average cost = 7.53 / 25.10 ≈ 0.30, which is relatively low for advertising campaigns but requires checking for outliers.  \n",
    "**Conclusion**: Low CTR and low CPC may be associated with the dominance of campaigns with zero or minimal clicks and costs, necessitating data segmentation.  \n",
    "**Summary**:  \n",
    "The data show an uneven distribution of advertising activity with a predominance of low metrics and rare large campaigns. The low CTR and CPC require further analysis of effectiveness, and outliers and zero values need to be checked."
   ]
  },
  {
   "cell_type": "markdown",
   "id": "c8092c62-a878-4f93-a01f-d7ddfa5e97a3",
   "metadata": {},
   "source": [
    "#### Histogram\n",
    "-**Objective**: To study the distribution of values for ` Impressions `, ` Spend `, and ` Clicks `.  \n",
    "-**Reason**: The data has a high standard deviation and skewness (the median is significantly lower than the mean).  \n",
    "-**What to look for**: Peaks of the distribution, presence of outliers (for example, values >75th percentile), proportion of zero values.  \n",
    "\n",
    "I use ` sns.histplot() ` with a logarithmic scale for ` Impressions ` and ` Clicks ` to smooth the impact of large values (for example, 431445 and 2415)."
   ]
  },
  {
   "cell_type": "code",
   "execution_count": null,
   "id": "313a759e-00e5-4177-b65d-6aff89304b0d",
   "metadata": {},
   "outputs": [],
   "source": [
    "fig, axes = plt.subplots(1, 3, figsize=(15, 5))\n",
    "for ax, col in zip(axes, ['Impressions', 'Spend', 'Clicks']):\n",
    "  sns.histplot(data=spend, x=col, ax=ax, log_scale=True)\n",
    "  ax.set_title(f'Distribution {col}')\n",
    "plt.tight_layout()\n",
    "plt.show()"
   ]
  },
  {
   "cell_type": "markdown",
   "id": "d4cbd932-68d1-4ba4-8956-7e092bd45192",
   "metadata": {},
   "source": [
    "#### Correlation Heatmap\n",
    "-**Purpose**: To evaluate the correlation between ` Impressions `, ` Spend `, and ` Clicks `.  \n",
    "-**Reason**: Low CTR and CPC require checking for linear dependencies.  \n",
    "-**What to look for**: Strong correlations, especially between ` Spend ` and ` Clicks `.  "
   ]
  },
  {
   "cell_type": "code",
   "execution_count": null,
   "id": "7ed75ea9-ceca-485e-8c6e-953a26071075",
   "metadata": {},
   "outputs": [],
   "source": [
    "plt.figure(figsize=(8, 6))\n",
    "sns.heatmap(spend[['Impressions', 'Spend', 'Clicks']].corr(), annot=True, cmap='YlOrRd', vmin=-1, vmax=1)\n",
    "plt.title('Correlation between Impressions, Spend и Clicks')\n",
    "plt.tight_layout()\n",
    "plt.show()"
   ]
  },
  {
   "cell_type": "markdown",
   "id": "f4f79498-c845-4985-b539-8828a040dbc5",
   "metadata": {},
   "source": [
    "#### Bar Plot by Categories  \n",
    "-**Purpose**: Analysis by sources or campaigns  \n",
    "-**What to observe**: Differences in the effectiveness of sources."
   ]
  },
  {
   "cell_type": "code",
   "execution_count": null,
   "id": "dcc119e1-9837-4f0c-91b7-908feb226392",
   "metadata": {},
   "outputs": [],
   "source": [
    "plt.figure(figsize=(10, 6))\n",
    "sorted_sources = spend.groupby('Source', observed=False)['Clicks'].sum().sort_values(ascending=False).index\n",
    "sns.barplot(data=spend, x='Source', y='Clicks', estimator=sum, order=sorted_sources) \n",
    "plt.title('Суммарное количество кликов по источникам')\n",
    "plt.xticks(rotation=45)\n",
    "plt.tight_layout()\n",
    "plt.show()\n"
   ]
  },
  {
   "cell_type": "markdown",
   "id": "73d42746-50aa-4b28-bab5-a432590e8c80",
   "metadata": {},
   "source": [
    "### Conclusions"
   ]
  },
  {
   "cell_type": "markdown",
   "id": "4da8bbc7-91c6-435a-a32e-8953ba5fda4b",
   "metadata": {},
   "source": [
    "After analyzing the presented diagrams, the following conclusions can be made:\n",
    "\n",
    "1. Distribution of Impressions, Spend, and Clicks:\n",
    "   - The distribution of Impressions has two distinct peaks. The main peak occurs in the range of 1 to 10 impressions, where the highest number of impressions is concentrated (approximately 800–1,000). The second noticeable peak is around 100 impressions. After that, the number of impressions gradually decreases, although some campaigns reach values in the hundreds of thousands (up to 431,445).\n",
    "   - The distribution of Spend shows a primary peak in the range of 0.1 to 1 unit of expenditure, where the largest number of records is found (about 800–1,000). There is also a slight increase around 10 units of expenditure. However, rare campaigns have expenditures of up to several hundred units (maximum 774, as indicated in the data). This suggests that most campaigns incur minimal costs, but there is a small number of campaigns with large budgets.\n",
    "   - The distribution of Clicks demonstrates an exponential decline. The highest number of records (approximately 1,400–1,600) is concentrated in the range of 1 to 10 clicks, which constitutes the bulk of the data. After this, the number of clicks decreases rapidly, although some campaigns reach values in the thousands of clicks (maximum 2,415, as indicated in the data). This shows that most campaigns receive few clicks, but there are rare successful cases with high activity.\n",
    "\n",
    "2. Correlation between Impressions, Spend, and Clicks:\n",
    "   - Impressions and Clicks have a strong positive correlation (0.89), meaning that as the number of impressions increases, the number of clicks also increases.\n",
    "   - Spend and Clicks also have a positive correlation (0.59), indicating that an increase in advertising expenditure leads to an increase in the number of clicks.\n",
    "   - Impressions and Spend have a moderate positive correlation (0.53), showing that an increase in impressions is associated with an increase in advertising expenditure.\n",
    "\n",
    "3. Distribution of metrics by sources:\n",
    "   - The highest total number of clicks comes from Google Ads, followed by YouTube Ads and Facebook Ads. This indicates the effectiveness of these advertising channels.\n",
    "   - Significant volumes of clicks are also generated through CRM systems, bloggers, and SMM promotion.\n",
    "   - Other sources, such as TikTok Ads, Telegram, webinars, offline activities, and others, contribute significantly less to the total number of clicks."
   ]
  },
  {
   "cell_type": "markdown",
   "id": "5ac9774e-27fd-48a1-be8f-a8993dac9d0e",
   "metadata": {},
   "source": [
    "## Analysis of categorical fields in the Spend dataframe\n",
    "-**Source (Channel)**on which the advertisement was shown  \n",
    "-**Campaign**within which the advertisement was shown"
   ]
  },
  {
   "cell_type": "code",
   "execution_count": null,
   "id": "39b965c4-0f89-4d08-b5e9-238b5c08b033",
   "metadata": {},
   "outputs": [],
   "source": [
    "\n",
    "print(\"\\n=== Analysis of categorical fields in the Spend dataframe ===\")\n",
    "categorical_fields_spend = ['Source', 'Campaign']\n",
    "for field in categorical_fields_spend:\n",
    "    analyze_categorical_field(spend, field, \"spend\")"
   ]
  },
  {
   "cell_type": "markdown",
   "id": "5a462260-0305-4d34-babb-f9e3275023ae",
   "metadata": {},
   "source": [
    "### Conclusions:"
   ]
  },
  {
   "cell_type": "markdown",
   "id": "c6f66f7d-d545-4a81-865e-8e1ac20632f0",
   "metadata": {},
   "source": [
    "Based on the analysis of the presented diagrams, the following conclusions can be made: -**Facebook Ads**is the main channel, accounting for the overwhelming majority (58.1%) of all expenses. - Among the campaigns, a few large ones stand out (for example, 'performancemax_eng_DE', 'b_DE'). However, the majority of campaigns are marked as**Unknown**, indicating the need for improvement in tracking and analytics systems. - Among the segmented campaigns, there is a noticeable focus on video formats, webinars, and targeting specific audiences (for example, recently moved individuals or the female audience -**recentlymoved**,**LAL1**, and**women**). - Overall, the expense structure shows a strong dependence on a few major channels (Facebook, TikTok, YouTube) and the need for optimization for smaller sources to enhance their effectiveness."
   ]
  },
  {
   "cell_type": "markdown",
   "id": "849daaa7-a94b-4233-a6bd-df4373f70857",
   "metadata": {},
   "source": [
    "# Deals"
   ]
  },
  {
   "cell_type": "code",
   "execution_count": null,
   "id": "32a5aa37-06f8-40bb-a2c5-0b4ae224b18e",
   "metadata": {},
   "outputs": [],
   "source": [
    "deals.info()"
   ]
  },
  {
   "cell_type": "code",
   "execution_count": null,
   "id": "b39ee229-76a3-489a-abce-938e01360f90",
   "metadata": {},
   "outputs": [],
   "source": [
    "display(deals.describe().T)"
   ]
  },
  {
   "cell_type": "markdown",
   "id": "6c8093d5-7a68-40d0-ae3e-7a0332c4bb1f",
   "metadata": {},
   "source": [
    "## Анализ числовых полей в датафрейме Deals"
   ]
  },
  {
   "cell_type": "markdown",
   "id": "2ce6f4c9-df48-47e0-ad4f-c2e9413a2b61",
   "metadata": {},
   "source": [
    "#### Conclusions:\n",
    "- Total records: 21593  \n",
    "\n",
    "**Field Closing Date**  \n",
    "-**Mean value**: June 24, 2024, 19:53:23.  \n",
    "-**Median (50%)**: April 13, 2024.    \n",
    "-**Range (min-> max)**: from July 3, 2023, to May 5, 2025.  \n",
    "-**Conclusion**: The data covers the period from July 2023 to May 2025, with a median in mid-April 2024, indicating an even distribution of records over time.  \n",
    "\n",
    "**Field SLA (Service Level)**  \n",
    "-**Mean value**: 0 days 23:08:40.  \n",
    "-**Median (50%)**: 1 day 01:45:35.  \n",
    "-**Range (min-> max)**: from 0 to 311 days 10:34:24.  \n",
    "-**Conclusion**: Most SLA values are concentrated around the median of 1 day 01:45:35, but there are also extreme values up to 311 days, which requires further analysis.  \n",
    "\n",
    "**Field Course duration**  \n",
    "-**Mean value**: 1.69 months.  \n",
    "-**Median (50%)**: 0 months.  \n",
    "-**Mode**: 0 months.  \n",
    "-**Range (min-> max)**: from 0 to 11 months.  \n",
    "-**Conclusion**: The largest number of courses has a duration of 0 months, which may indicate a high level of dropouts or unsuccessful deals. Courses with a duration of 11 months occupy the second position in number. Courses lasting 6 months are less common.\n",
    "  \n",
    "**Field Months of study**  \n",
    "-**Mean value**: 0.21 months  \n",
    "-**Median (50%)**: 0 months.  \n",
    "-**Mode**: 0 months.  \n",
    "-**Range (min-> max)**: from 0 to 11 months.  \n",
    "-**Conclusion**: Most students either did not start studying or their study was very short.  \n",
    "\n",
    "**Field Initial Amount Paid**  \n",
    "-**Mean value**: 184.09.  \n",
    "-**Median (50%)**: 0.  \n",
    "-**Mode**: 0.  \n",
    "-**Range (min-> max)**: from 0 to 11500.\n",
    "-**Conclusion**: Most students either did not pay the initial amount or the deal was unsuccessful.\n",
    "\n",
    "**Field Offer Total Amount**\n",
    "-**Mean value**: 1390.81\n",
    "-**Median (50%)**: 0.\n",
    "-**Mode**: 0.\n",
    "-**Range (min-> max)**: from 0 to 11500.  \n",
    "-**Conclusion**: Half of the records have a zero training cost, confirming the presence of unsuccessful deals or dropouts.  "
   ]
  },
  {
   "cell_type": "code",
   "execution_count": null,
   "id": "74dab16a-531d-487c-8e72-92c002f9a6a7",
   "metadata": {},
   "outputs": [],
   "source": [
    "for col in ['Months of study', 'Initial Amount Paid', 'Offer Total Amount', 'Course duration']:  #SLA\n",
    "    print(col)\n",
    "    plt.figure(figsize = (15, 4))\n",
    "    plt.subplot(1, 2, 1)\n",
    "    deals[col].hist(grid=False)\n",
    "    plt.ylabel('count')\n",
    "    plt.subplot(1, 2, 2)\n",
    "    sns.boxplot(x=deals[col])\n",
    "    plt.show()"
   ]
  },
  {
   "cell_type": "markdown",
   "id": "e7785c6b-ae4f-4285-9842-f165291fed15",
   "metadata": {},
   "source": [
    "## Analysis of categorical fields in the Deals DataFrame."
   ]
  },
  {
   "cell_type": "code",
   "execution_count": null,
   "id": "dee11dba-1f48-4b50-819b-655193551bf6",
   "metadata": {},
   "outputs": [],
   "source": [
    "print(\"=== Analysis of categorical fields in the Deals DataFrame. ===\")\n",
    "categorical_fields_deals = ['Quality', 'Stage', 'Source', 'Product']\n",
    "for field in categorical_fields_deals:\n",
    "    analyze_categorical_field(deals, field, \"deals\")"
   ]
  },
  {
   "cell_type": "markdown",
   "id": "08fb365a-fb9c-44bd-a490-ef0aa3676b1f",
   "metadata": {},
   "source": [
    "## Conclusions\n",
    "\n",
    "#### 1. **Distribution of the \"Quality\" Field Values**\n",
    "- **Data:**\n",
    "  - The largest number of deals belongs to the categories \"E - Non Qualified\" (35.4%) and \"D - Non Target\" (29.0%).\n",
    "  - High-quality deals (\"A - High\" and \"B - Medium\") make up only 9.2%.\n",
    "- **Conclusions:**\n",
    "  - The predominance of \"Non Qualified\" and \"Non Target\" categories indicates inefficiency in current lead generation methods. A detailed audit of marketing channels and qualification criteria may be necessary to increase the share of high-quality leads.\n",
    "\n",
    "---\n",
    "\n",
    "#### 2. **Distribution of the \"Stage\" Field Values**\n",
    "- **Data:**\n",
    "  - 72.9% of deals are at the \"Lost\" stage.\n",
    "  - Only 4% of deals are completed with payment (\"Payment Done\").\n",
    "  - The \"Call Delayed\" (10.4%) and \"Registered\" (9.6%) stages indicate some activity.\n",
    "\n",
    "- **Conclusions:**\n",
    "  - The high percentage of lost deals (the \"Lost\" stage) indicates serious issues in the process of converting leads into customers. It is necessary to analyze each step in the sales funnel, especially the transitions between the \"Call Delayed,\" \"Registered on Webinar,\" and final payment stages.\n",
    "\n",
    "---\n",
    "\n",
    "#### 3. **Distribution of the \"Product\" Field Values**\n",
    "- **Data:**\n",
    "  - 83.4% of deals fall into the \"Unknown\" category.\n",
    "  - The largest number of deals with known products is associated with \"Digital Marketing\" (9.2%) and \"UX/UI Design\" (4.7%).\n",
    "\n",
    "- **Conclusions:**\n",
    "  - The high share of the \"Unknown\" category indicates the need for improvements in the CRM system for product tracking.\n",
    "  - The popularity of \"Digital Marketing\" and \"UX/UI Design\" products can be leveraged to strengthen marketing campaigns."
   ]
  },
  {
   "cell_type": "markdown",
   "id": "e6f7cc27-6903-48fc-bd6e-6469e5abb38d",
   "metadata": {},
   "source": [
    "### Correlation Heatmap\n",
    "\n",
    "**Objective:** Assess the correlation between variables related to courses: number of months of study, initial payment amount, total offer amount, and course duration.\n",
    "\n",
    "**Reason:** Understanding the relationships between these variables can help analyze the factors affecting the financial outcomes of courses and identify potential areas for improvement.\n",
    "\n",
    "**What to look for:** Pay attention to strong correlations, especially between variables such as \"Initial Amount Paid\" and \"Offer Total Amount,\" as well as any unexpected dependencies that may indicate interesting trends or anomalies in the data."
   ]
  },
  {
   "cell_type": "code",
   "execution_count": null,
   "id": "67508295-1d53-477b-ab6e-251e36168caf",
   "metadata": {
    "scrolled": true
   },
   "outputs": [],
   "source": [
    "# Correlation heatmap\n",
    "corr_matrix = deals[['Months of study', 'Initial Amount Paid', 'Offer Total Amount', 'Course duration']].corr()\n",
    "plt.figure(figsize=(8, 6))\n",
    "sns.heatmap(corr_matrix, annot=True, cmap='YlOrRd')\n",
    "plt.title('Тепловая карта корреляции')\n",
    "plt.show()"
   ]
  },
  {
   "cell_type": "markdown",
   "id": "6d4bed5d-047f-4c04-a901-b7633be51e84",
   "metadata": {},
   "source": [
    "### Multidimensional Analysis\n",
    "\n",
    "-**High positive correlation** between * course duration * (\"Course duration\") and * total offer amount * (\"Offer Total Amount\")\n",
    "\n",
    "-**Average positive correlation** observed between * initial amount paid * (\"Initial Amount Paid\") and * total offer amount * (\"Offer Total Amount\")\n",
    "\n",
    "-**Weak positive correlation** identified between * number of months of study * (\"Months of study\") and * initial amount paid * (\"Initial Amount Paid\")."
   ]
  },
  {
   "cell_type": "markdown",
   "id": "ce58ebce-65c4-4072-a1eb-a477dc2946a1",
   "metadata": {},
   "source": [
    "# Supplementing the analysis\n",
    "## Reasons for losses\n",
    "\n",
    "**Goal:** Visualize the distribution of reasons for deal losses to identify the main issues leading to customer loss and determine areas for improvement.\n",
    "\n",
    "**Reason:** Understanding the key reasons for deal losses will allow us to focus efforts on the most significant areas and develop effective strategies to reduce losses and improve conversion rates.\n",
    "\n",
    "**What to look at:** Pay attention to the most common reasons for deal losses displayed as a bar chart. Special attention should be given to the reasons with the highest number of lost deals, as they represent the greatest opportunity for improvement. Also, note any unexpected or unusual reasons that may indicate interesting trends or anomalies in the data."
   ]
  },
  {
   "cell_type": "code",
   "execution_count": null,
   "id": "23228ac0-b15c-4eb5-b5f1-44621b3938a9",
   "metadata": {
    "jupyter": {
     "source_hidden": true
    }
   },
   "outputs": [],
   "source": [
    "# Reasons for Loss\n",
    "import matplotlib.pyplot as plt\n",
    "import seaborn as sns\n",
    "\n",
    "# Filtering deals at the 'Lost' stage\n",
    "lost_deals = deals[deals['Stage'] == 'Lost']\n",
    "if 'Lost Reason' in deals.columns:\n",
    "    lost_reasons = lost_deals['Lost Reason'].value_counts()\n",
    "    total_lost_deals = lost_deals.shape[0]\n",
    "    plt.figure(figsize=(8, 6))\n",
    "    \n",
    "    # Creating annotations with the sum for each column\n",
    "    for i, v in enumerate(lost_reasons.values):\n",
    "        plt.text(v, i, str(v), color='black', ha='left', va='center')\n",
    "        \n",
    "    sns.barplot(x=lost_reasons.values, y=lost_reasons.index, palette='Reds_r', hue=lost_reasons.index, dodge=False, legend=False)\n",
    "    plt.title(f'Distribution of Loss Reasons (Total Lost Deals: {total_lost_deals})')\n",
    "    plt.xlabel('Number of Deals')\n",
    "    plt.ylabel('Loss Reasons')\n",
    "    plt.show()\n"
   ]
  },
  {
   "cell_type": "markdown",
   "id": "2b7c88c2-0e3e-477c-9414-d67e6e9c2916",
   "metadata": {
    "jupyter": {
     "source_hidden": true
    }
   },
   "source": [
    "### Conclusions from the \"Distribution of Loss Reasons\" Chart:\n",
    "\n",
    "## Analysis of Loss Reasons Distribution\n",
    "\n",
    "### Main Reason for Losses\n",
    "- **\"Doesn't Answer\"** remains the most common reason with over 4,000 cases. This confirms a communication issue during the follow-up stage or after the first contact, which requires immediate attention.\n",
    "\n",
    "### Significant Reasons\n",
    "- **\"Changed Decision\"** — around 2,000 cases. This may indicate customer uncertainty or insufficient conviction in the product/service.\n",
    "- **\"Stopped Answering\"** — about 1,500 cases. Loss of customer interest or weak engagement from the company remains relevant.\n",
    "- **\"Invalid Number\"** — approximately 1,200 cases. This highlights a problem with the quality of lead contact data.\n",
    "\n",
    "### Product Perception Issues\n",
    "- **\"Expensive\"** and **\"Conditions are not suitable\"** — around 1,000 and 800 cases respectively. This indicates a mismatch between customer expectations and the company's offerings, particularly regarding price and terms.\n",
    "\n",
    "### Language Barrier and Qualification\n",
    "- **\"Does not speak English\"** — about 700 cases. The language barrier remains a significant problem.\n",
    "- **\"Does not know how to use a computer\"** — around 400 cases. Some leads do not meet technical requirements, indicating insufficient qualification.\n",
    "\n",
    "### Rare Reasons\n",
    "- Reasons such as **\"Refugee,\"** **\"Thought for free,\"** and **\"The contract did not fit\"** (fewer than 200 cases) do not have a significant impact but may be considered for niche segments.\n",
    "\n",
    "### Recommendations:\n",
    "- **Critical Communication Issue:** The more than 4,000 cases of \"Doesn't Answer\" and 1,500 \"Stopped Answering\" indicate that current customer interaction processes are ineffective. This is a key growth point—improving communication could significantly reduce losses. Research is needed to understand why customers are not responding and to develop a strategy to enhance engagement.\n",
    "- **Optimize Lead Qualification Process:** The high number of \"Invalid Number\" (1,200) and \"Does not know how to use a computer\" (400) indicates the need for stricter lead qualification at the attraction stage. It is recommended to verify customer contact details and their alignment with the target audience at early stages.\n",
    "- **Consider Multilingual Support:** If a significant portion of customers faces a language barrier, this could greatly improve conversion rates.\n",
    "- **Work on Pricing Proposal:** The reason \"Expensive\" may be related to the perception of the product's value. It is advisable to review pricing policy or emphasize the benefits."
   ]
  },
  {
   "cell_type": "code",
   "execution_count": null,
   "id": "5eaff39d-775c-4bff-95ab-ca7f40c81303",
   "metadata": {},
   "outputs": [],
   "source": []
  }
 ],
 "metadata": {
  "kernelspec": {
   "display_name": "Python 3 (ipykernel)",
   "language": "python",
   "name": "python3"
  },
  "language_info": {
   "codemirror_mode": {
    "name": "ipython",
    "version": 3
   },
   "file_extension": ".py",
   "mimetype": "text/x-python",
   "name": "python",
   "nbconvert_exporter": "python",
   "pygments_lexer": "ipython3",
   "version": "3.12.5"
  },
  "widgets": {
   "application/vnd.jupyter.widget-state+json": {
    "state": {},
    "version_major": 2,
    "version_minor": 0
   }
  }
 },
 "nbformat": 4,
 "nbformat_minor": 5
}
