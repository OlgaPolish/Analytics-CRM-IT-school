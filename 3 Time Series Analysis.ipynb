{
 "cells": [
  {
   "cell_type": "markdown",
   "id": "19d6b19f-f917-45d9-acc4-a974c4900311",
   "metadata": {},
   "source": [
    "# Time Series Analysis\n",
    "1. Analyze the trend of deal creation over time and its relationship with calls.\n",
    "2. Study the distribution of deal closing times and the duration from creation to closure."
   ]
  },
  {
   "cell_type": "code",
   "execution_count": null,
   "id": "5694dfcd-154f-4a71-ad7c-a81cd4791572",
   "metadata": {},
   "outputs": [],
   "source": [
    "import pandas as pd\n",
    "import matplotlib.pyplot as plt\n",
    "import matplotlib.dates as mdates"
   ]
  },
  {
   "cell_type": "code",
   "execution_count": null,
   "id": "742ab3ec-202a-433f-ba0b-a3c1543e2a5a",
   "metadata": {},
   "outputs": [],
   "source": [
    "deals = pd.read_pickle('deals_df.pkl')\n",
    "calls = pd.read_pickle('calls_df.pkl')"
   ]
  },
  {
   "cell_type": "markdown",
   "id": "12ccb69a-9fbf-437c-afe9-7daac68be911",
   "metadata": {},
   "source": [
    "# 1. Analysis of the trend of deal creation over time and its relationship with calls."
   ]
  },
  {
   "cell_type": "code",
   "execution_count": null,
   "id": "efa9cbe5-8977-4b67-94f7-6adebe84bbdc",
   "metadata": {},
   "outputs": [],
   "source": [
    "# Filtering deals where the deal date does not precede the first call, in order to avoid distorting the picture of the dependence of deals on calls\n",
    "deals = deals[deals['Created Time'] >= calls['Call Start Time'].min()]"
   ]
  },
  {
   "cell_type": "code",
   "execution_count": null,
   "id": "330fb6f9-6562-4686-9f14-a563973be5cf",
   "metadata": {},
   "outputs": [],
   "source": [
    "# Grouping by months\n",
    "calls1 = calls.groupby(calls['Call Start Time'].dt.to_period('M')).size()\n",
    "deals1 = deals.groupby(deals['Created Time'].dt.to_period('M')).size()\n",
    "# Converting indexes to datetime format\n",
    "deals1.index = deals1.index.to_timestamp()\n",
    "calls1.index = calls1.index.to_timestamp()"
   ]
  },
  {
   "cell_type": "markdown",
   "id": "d2b12566-5dcf-4648-bc40-afa5d72ec814",
   "metadata": {},
   "source": [
    "## Chart of the trend of deal creation over time and its relationship with calls"
   ]
  },
  {
   "cell_type": "code",
   "execution_count": null,
   "id": "90cbabdc-7b14-43da-9daf-b172ca5870c5",
   "metadata": {},
   "outputs": [],
   "source": [
    "# I am leaving only those rows where the value of the 'Call Duration (in seconds)' column is greater than 0. This means that I am considering only completed calls, excluding calls with zero duration.\n",
    "calls_done = calls[calls['Call Duration (in seconds)'] > 0].groupby(calls['Call Start Time'].dt.to_period('M')).size()\n",
    "calls_done.index = calls_done.index.to_timestamp()\n",
    "\n",
    "plt.figure(figsize=(15, 6))\n",
    "\n",
    "plt.plot(deals1.index, deals1, label='Deals', marker='o', color='blue')\n",
    "for i, value in enumerate(deals1):\n",
    "    plt.annotate(f' {value} ', (deals1.index[i], value), textcoords=\"offset points\", xytext=(0, 5), ha='center')\n",
    "\n",
    "# Plotting the graph for calls\n",
    "plt.plot(calls1.index, calls1, label='Calls', marker='o', color='red')\n",
    "for i, value in enumerate(calls1):\n",
    "    plt.annotate(f' {value} ', (calls1.index[i], value), textcoords=\"offset points\", xytext=(0, 5), ha='center')\n",
    "\n",
    "# Plotting the graph for completed calls\n",
    "plt.plot(calls_done.index, calls_done, label='Completed Calls', marker='o', linestyle='-.', color='green')\n",
    "for i, value in enumerate(calls_done):\n",
    "    plt.annotate(f' {value} ', (calls_done.index[i], value), textcoords=\"offset points\", xytext=(0, 5), ha='center')\n",
    "\n",
    "# Setting the title, axes, and legend\n",
    "plt.title('Trend of Deal Creation Over Time and Its Relation to Calls')\n",
    "plt.xlabel('Month')\n",
    "plt.ylabel('Number')\n",
    "plt.yticks([])\n",
    "plt.legend()\n",
    "\n",
    "plt.show()"
   ]
  },
  {
   "cell_type": "markdown",
   "id": "954e2e49-dfb0-4adb-a490-6495bf40752a",
   "metadata": {},
   "source": [
    "## Visualizing the change in conversion rate over time"
   ]
  },
  {
   "cell_type": "code",
   "execution_count": null,
   "id": "28906336-562b-43dc-b067-85b477d35bf7",
   "metadata": {},
   "outputs": [],
   "source": [
    "conversion_rate = deals1 / calls1\n",
    "\n",
    "plt.figure(figsize=(12, 4))\n",
    "plt.plot(conversion_rate.index, conversion_rate, marker='o')\n",
    "\n",
    "for i, value in enumerate(conversion_rate):\n",
    "    plt.annotate(f' {value:.2f} ', (conversion_rate.index[i], value),\n",
    "        textcoords='offset points', xytext=(0, 5), ha='center')\n",
    "\n",
    "plt.xlabel('Month')\n",
    "plt.ylabel('Conversion Rate')\n",
    "plt.title('Dynamics of Conversion Rate')\n",
    "plt.show()"
   ]
  },
  {
   "cell_type": "code",
   "execution_count": null,
   "id": "db775cf5-fdc2-4836-b09e-e6383e0e09af",
   "metadata": {},
   "outputs": [],
   "source": [
    "calls_done"
   ]
  },
  {
   "cell_type": "code",
   "execution_count": null,
   "id": "45b94800-42f8-45d6-9422-ad1c2bc77274",
   "metadata": {},
   "outputs": [],
   "source": [
    "deals1"
   ]
  },
  {
   "cell_type": "markdown",
   "id": "2dd9e4cc-22a1-426e-ae6b-893ff6a88831",
   "metadata": {},
   "source": [
    "### Conclusions:\n",
    "**The trend of deal creation over time and its connection to calls:**  \n",
    "- The number of calls increased from 1935 in July 2023 to a peak of 13328 in April 2024, after which it decreased to 8495 in June 2024.  \n",
    "- The number of deals also grew from 655 in July 2023 to a peak of 3081 in March 2024, then decreased to 1674 in June 2024.  \n",
    "- The number of completed calls shows a similar dynamic, increasing from 4 in July 2023 to 10026 in March 2024 and decreasing to 6212 in June 2024.  \n",
    "- It is evident that there is a close connection between the number of calls and deals - an increase in calls leads to an increase in the number of deals, while a decrease in calls leads to a reduction in deals.\n",
    "  \n",
    "**The dynamics of the conversion rate:**  \n",
    "- At the beginning (July 2023), the conversion rate was quite high - 0.34. This means that out of 100 calls during this period, about 34 deals were made.  \n",
    "- But then the rate began to decline. By May 2024, it had dropped to 0.21.  \n",
    "- Then the situation stabilized somewhat - the rate held at around 0.22-0.23 from March to April 2024.  \n",
    "- Thus, despite the increase in the overall number of calls and deals, the effectiveness of working with clients (the ability to convert calls into actual deals) was declining."
   ]
  },
  {
   "cell_type": "markdown",
   "id": "aa1a9383-c3a9-44e3-bb68-8f2897a082e2",
   "metadata": {},
   "source": [
    "# 2. Analysis of the distribution of deal closing times and the duration from creation to closure."
   ]
  },
  {
   "cell_type": "markdown",
   "id": "2acb5243-de8f-4662-a173-aeaed60e8cf3",
   "metadata": {},
   "source": [
    "## Chart of the Number of Deals and the Average Duration from Creation to Closing"
   ]
  },
  {
   "cell_type": "code",
   "execution_count": null,
   "id": "e32ad8a1-e29c-4bad-9f26-f7edbb20c845",
   "metadata": {},
   "outputs": [],
   "source": [
    "deals = pd.read_pickle('deals_df.pkl')\n",
    "# Removing from consideration records dated 05.05.2025, which I used to fill in deals without a closing date.\n",
    "deals1 = deals[deals['Closing Date'] < '2024-05-05']"
   ]
  },
  {
   "cell_type": "code",
   "execution_count": null,
   "id": "0242849b-b7c0-4f17-9dd7-8272832550e8",
   "metadata": {},
   "outputs": [],
   "source": [
    "from scipy.stats import pearsonr\n",
    "\n",
    "# Calculating the duration from deal creation to closure in days\n",
    "# Creating a new DataFrame with the required column\n",
    "deals1 = pd.DataFrame(deals1)\n",
    "deals1['duration'] = (deals1['Closing Date'] - deals1['Created Time']).dt.days\n",
    "\n",
    "# Aggregating data by weeks for the number of deals\n",
    "deals_count = deals1.resample('W', on='Closing Date').size()\n",
    "\n",
    "# Aggregating data by weeks for the average duration (in days)\n",
    "deals_w = deals1.resample('W', on='Closing Date')['duration'].mean()\n",
    "\n",
    "# Calculating the correlation between the number of deals and the average closure duration\n",
    "correlation, p_value = pearsonr(deals_count, deals_w)\n",
    "\n",
    "plt.figure(figsize=(10, 6))\n",
    "\n",
    "# Plotting the average duration on the first Y-axis\n",
    "plt.plot(deals_w.index, deals_w, label='Average Duration', marker='o', linestyle='-.', color='red')\n",
    "plt.ylabel('Average Duration (days)', color='red')\n",
    "\n",
    "# Setting the X-axis to display weeks\n",
    "# plt.ylabel('Number of Deals', color='darkblue')\n",
    "plt.xticks(rotation=45)\n",
    "plt.title('Number of Deals and Average Duration from Creation to Closure')\n",
    "\n",
    "# Annotations for average duration on the red graph\n",
    "for i, value in enumerate(deals_w):\n",
    "    plt.annotate(f' {value:.1f} ', (deals_w.index[i], value), textcoords=\"offset points\", xytext=(0, 5), ha='center', fontsize=10)\n",
    "\n",
    "# Second Y-axis for the number of deals\n",
    "ax2 = plt.gca().twinx()\n",
    "ax2.plot(deals_count.index, deals_count, label='Number of Deals', marker='o', color='blue')\n",
    "\n",
    "plt.text(0.01, 0.95, f'Correlation Coefficient: {correlation:.2f} ', transform=plt.gca().transAxes, fontsize=10, verticalalignment='top')\n",
    "significance_text = 'significant' if p_value < 0.05 else 'not significant'\n",
    "plt.text(0.01, 0.9, f'p-value: {p_value} ({significance_text})', transform=plt.gca().transAxes, fontsize=10, verticalalignment='top')\n",
    "\n",
    "# Adding a legend\n",
    "plt.legend(loc='lower right')\n",
    "\n",
    "plt.grid(True, which='major', axis='both', linestyle='--', linewidth=0.7)\n",
    "plt.tight_layout()\n",
    "plt.show()\n",
    "\n",
    "# Print monthly deal counts (I did not display this on the graph to avoid cluttering the visualization with extra numbers)\n",
    "print(deals_count)"
   ]
  },
  {
   "cell_type": "markdown",
   "id": "3d11c8ee-c232-424d-bbfc-4281ed87878a",
   "metadata": {},
   "source": [
    "## Heatmap of the duration of deals by month of creation and closure"
   ]
  },
  {
   "cell_type": "code",
   "execution_count": null,
   "id": "907a5314-b907-4a72-9e44-14971c09751c",
   "metadata": {},
   "outputs": [],
   "source": [
    "import seaborn as sns\n",
    "import pandas as pd\n",
    "import matplotlib.pyplot as plt\n",
    "\n",
    "deals = pd.read_pickle('deals_df.pkl')\n",
    "\n",
    "# Removing records with the date 05.05.2025 (filled for deals without a closing date) from the calculation\n",
    "deals1 = deals[deals['Closing Date'] < '2024-05-05']\n",
    "\n",
    "# Converting to DataFrame (although it is already a DataFrame after filtering)\n",
    "# deals1 = pd.DataFrame(deals1)\n",
    "\n",
    "# Calculating duration in days (checking for missing values)\n",
    "deals1 = deals1.dropna(subset=['Closing Date', 'Created Time'])  # Removing rows with missing values\n",
    "deals1['duration'] = (deals1['Closing Date'] - deals1['Created Time']).dt.days\n",
    "\n",
    "# Adding columns for the months of creation and closure\n",
    "deals1['deal_create_m'] = deals1['Created Time'].dt.to_period('M')  # Month of creation\n",
    "deals1['deal_close_m'] = deals1['Closing Date'].dt.to_period('M')  # Month of closure\n",
    "# Aggregating average duration by months of creation and closure\n",
    "heatmap_data = deals1.groupby(['deal_create_m', 'deal_close_m'])['duration'].mean().unstack()\n",
    "\n",
    "# Creating a heatmap\n",
    "plt.figure(figsize=(12, 6))\n",
    "heatmap = sns.heatmap(\n",
    "    heatmap_data,\n",
    "    annot=True,\n",
    "    cmap='YlOrRd',\n",
    "    fmt='.1f',\n",
    "    linewidths=0.5,\n",
    "    cbar=True,\n",
    "    cbar_kws={'label': 'Average Duration (days)'}\n",
    ")\n",
    "\n",
    "# Setting titles and labels\n",
    "plt.title('Heatmap of Deal Duration by Months of Creation and Closure', fontsize=14)"
   ]
  },
  {
   "cell_type": "markdown",
   "id": "f69215c0-b9e8-417b-a143-f2ff96d28bda",
   "metadata": {},
   "source": [
    "## Conclusions:\n",
    "**Correlation Chart of the Number of Deals and Average Duration from Creation to Closure**\n",
    "\n",
    "- **Strong Positive Correlation**  \n",
    "The chart shows a strong positive correlation (0.75) between the number of deals and the average closure duration, with both metrics increasing from July 2023 to May 2024. Periods of high workload (October 2023, March–May 2024) are accompanied by an increase in duration.\n",
    "\n",
    "- **Efficiency with a Low Number of Deals**  \n",
    "When there are few deals (17–98), they are closed quickly — within 1.2–3.2 days (July–August 2023). This shows that everything works well with a small volume.\n",
    "\n",
    "- **Challenges with a High Number of Deals**  \n",
    "As the number of deals increases to 400–577 (for example, 489 in November 2023 or 577 in April 2024), the duration increases to 14–23.7 days. This may indicate a lack of personnel or that the process is becoming more complicated.\n",
    "\n",
    "- **Progress in 2024**  \n",
    "In 2024, the number of deals peaked (577 in April), but the average duration remained moderate — around 15–23 days (for example, 15.9 days in May with 315 deals). This indicates that work has become better organized despite the high workload.\n",
    "\n",
    "**Heatmap of Deal Duration by Months of Creation and Closure**  \n",
    "The heatmap shows that deal duration is decreasing over time: from long cycles in 2022–2023 (up to 357 days) to very short durations in 2024 (0.5–7.2 days). This indicates an improvement in processes but requires checking for anomalously long deals.\n",
    "\n",
    "**Recommendations**  \n",
    "As the number of deals increases, the average duration of their closure also increases. This may indicate a lack of resources or complexities in the process. It is recommended to review task distribution and possibly increase the number of employees during peak periods."
   ]
  },
  {
   "cell_type": "code",
   "execution_count": null,
   "id": "01dbfa5c-54fc-4bca-a2ad-17d61fa02936",
   "metadata": {},
   "outputs": [],
   "source": [
    "deals1.info()"
   ]
  },
  {
   "cell_type": "code",
   "execution_count": null,
   "id": "6011c06e-45d3-4533-8ff8-15102eed840a",
   "metadata": {},
   "outputs": [],
   "source": [
    "import plotly.express as px\n",
    "\n",
    "# Creating a histogram\n",
    "fig = px.histogram(calls, x='Call Start Time', nbins=100,\n",
    "                   title='Number of Calls Over Time',\n",
    "                   template='plotly_white')\n",
    "\n",
    "# Setting up the chart layout\n",
    "fig.update_layout(xaxis_title='Call Start Time',\n",
    "                  yaxis_title='Number of Calls',\n",
    "                  bargap=0.1)\n",
    "\n",
    "# Displaying the chart\n",
    "fig.show()\n",
    "# As expected, the number of calls decreases during the Christmas holidays, which is likely a seasonal trend."
   ]
  },
  {
   "cell_type": "code",
   "execution_count": null,
   "id": "1a3656ce-f139-4d0d-bad7-3eae7c014e2a",
   "metadata": {},
   "outputs": [],
   "source": [
    "spend = pd.read_pickle('spend_df.pkl')\n",
    "spend.describe()"
   ]
  },
  {
   "cell_type": "code",
   "execution_count": null,
   "id": "d995c194-9ad4-4b74-a340-026773cbd589",
   "metadata": {},
   "outputs": [],
   "source": [
    "spend['Date'] = pd.to_datetime(spend['Date'])\n",
    "spend_daily = spend.groupby(spend['Date'].dt.date).agg({'Impressions': 'sum', 'Spend': 'sum', 'Clicks': 'sum'}).reset_index()\n",
    "spend_daily['Date'] = pd.to_datetime(spend_daily['Date'])\n",
    "\n",
    "fig, ax1 = plt.subplots(figsize=(12, 6))\n",
    "\n",
    "# Построение графиков на первой оси Y\n",
    "ax1.plot(spend_daily['Date'], spend_daily['Impressions'], label='Impressions', color='blue')\n",
    "ax1.set_xlabel('Дата')\n",
    "ax1.set_ylabel('Impressions', color='blue')\n",
    "ax1.tick_params('y', colors='blue')\n",
    "\n",
    "# Построение графика Spend на второй оси Y\n",
    "ax2 = ax1.twinx()\n",
    "ax2.plot(spend_daily['Date'], spend_daily['Spend'], label='Spend', color='orange')\n",
    "ax2.set_ylabel('Spend', color='orange')\n",
    "ax2.tick_params('y', colors='orange')\n",
    "\n",
    "# Построение графика Clicks на второй оси Y\n",
    "ax2.plot(spend_daily['Date'], spend_daily['Clicks'], label='Clicks', color='green')\n",
    "ax2.set_ylabel('Clicks', color='green')\n",
    "ax2.tick_params('y', colors='green')\n",
    "\n",
    "plt.title('Тренды по времени')\n",
    "plt.xticks(rotation=45)\n",
    "plt.legend(loc='upper left')\n",
    "plt.tight_layout()\n",
    "# plt.savefig('my_plot.png')\n",
    "plt.show()\n",
    "\n",
    "\n",
    "\n"
   ]
  },
  {
   "cell_type": "markdown",
   "id": "8cc52766-2357-4bf3-80b8-d673f918f68e",
   "metadata": {},
   "source": [
    "- The data covers the time period from **July 2023 to July 2024**:\n",
    "- **Activity peaks** occur in certain months, such as **2023-07** and **2023-11**, where click and impression rates are the highest.  \n",
    "- In some periods (for example, **2024-01**), there is a decrease in activity, which may be related to seasonal fluctuations or a decline in advertising activity."
   ]
  },
  {
   "cell_type": "code",
   "execution_count": null,
   "id": "c831be67-61ed-4370-b90f-e776722c2c5c",
   "metadata": {},
   "outputs": [],
   "source": []
  }
 ],
 "metadata": {
  "kernelspec": {
   "display_name": "Python 3 (ipykernel)",
   "language": "python",
   "name": "python3"
  },
  "language_info": {
   "codemirror_mode": {
    "name": "ipython",
    "version": 3
   },
   "file_extension": ".py",
   "mimetype": "text/x-python",
   "name": "python",
   "nbconvert_exporter": "python",
   "pygments_lexer": "ipython3",
   "version": "3.12.5"
  },
  "widgets": {
   "application/vnd.jupyter.widget-state+json": {
    "state": {},
    "version_major": 2,
    "version_minor": 0
   }
  }
 },
 "nbformat": 4,
 "nbformat_minor": 5
}
