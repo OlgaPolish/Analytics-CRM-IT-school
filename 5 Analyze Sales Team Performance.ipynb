{
 "cells": [
  {
   "cell_type": "markdown",
   "id": "223384f2-d0f4-47ef-bc13-69d02be79cc2",
   "metadata": {},
   "source": [
    "# Analysis of Sales Department Efficiency:\n",
    "1. Evaluate the efficiency of individual deal owners and advertising campaigns in terms of the number of processed deals, conversion rate, and total sales amount."
   ]
  },
  {
   "cell_type": "code",
   "execution_count": null,
   "id": "9a66ef9a-d854-421d-ac31-6054b91f4085",
   "metadata": {},
   "outputs": [],
   "source": [
    "import numpy as np\n",
    "import pandas as pd\n",
    "import matplotlib.pyplot as plt\n",
    "from plotly.subplots import make_subplots\n",
    "import plotly.graph_objects as go\n",
    "import seaborn as sns"
   ]
  },
  {
   "cell_type": "code",
   "execution_count": null,
   "id": "1ab21b1b-2447-4620-94c4-0c75907404f0",
   "metadata": {},
   "outputs": [],
   "source": [
    "deals = pd.read_pickle('deals_df.pkl')\n",
    "spend = pd.read_pickle('spend_df.pkl')\n",
    "calls = pd.read_pickle('calls_df.pkl')"
   ]
  },
  {
   "cell_type": "markdown",
   "id": "a3049f64-50c6-4e4a-ab91-53df373014e7",
   "metadata": {},
   "source": [
    "# Comparison of Successful and Lost Deals"
   ]
  },
  {
   "cell_type": "code",
   "execution_count": null,
   "id": "8f9bf70b-e563-49ca-a73e-d7667bd995ba",
   "metadata": {},
   "outputs": [],
   "source": [
    "# Data Preparation: grouping deals by campaigns\n",
    "campaign_data = deals.groupby('Deal Owner Name').agg(\n",
    "total_leads=('Id', 'count'),  # Total number of leads\n",
    "completed_leads=('Stage', lambda x: (x == 'Payment Done').sum()),  # Completed leads\n",
    "failed_leads=('Stage', lambda x: (x == 'Lost').sum()),  # Lost leads\n",
    "total_sales=('Initial Amount Paid', 'sum'),\n",
    "total_offer_amount=('Offer Total Amount', 'sum')).reset_index()\n",
    "\n",
    "campaign_data['total_offer_amount'] = campaign_data['total_offer_amount'].astype(int)\n",
    "campaign_data['total_sales'] = campaign_data['total_sales'].astype(int)\n",
    "campaign_data['conversion_rate'] = campaign_data['completed_leads'] / campaign_data['total_leads'] * 100\n",
    "# len(campaign_data)\n",
    "final_campaign_data = campaign_data.sort_values('total_leads', ascending=False)"
   ]
  },
  {
   "cell_type": "code",
   "execution_count": null,
   "id": "c0ec6560-749b-4dc7-ba6a-faf794a83024",
   "metadata": {},
   "outputs": [],
   "source": [
    "plt.figure(figsize=(10, 8))\n",
    "ax = plt.gca()\n",
    "\n",
    "# Columns for total number of leads\n",
    "bars = ax.bar(final_campaign_data['Deal Owner Name'], final_campaign_data['total_leads'], color='brown', label='Total number of deals')\n",
    "\n",
    "# Lines for completed and lost leads\n",
    "ax.plot(final_campaign_data['Deal Owner Name'], final_campaign_data['completed_leads'], color='forestgreen', marker='o', linestyle='-', label='Successful deals')\n",
    "ax.plot(final_campaign_data['Deal Owner Name'], final_campaign_data['failed_leads'], color='coral', marker='o', linestyle='-.', label='Lost deals')\n",
    "\n",
    "# Adding numbers above the bars\n",
    "for bar in bars:\n",
    "    height = bar.get_height()\n",
    "    ax.text(bar.get_x() + bar.get_width()/2., height, f'{int(height)}', ha='center', va='bottom', fontsize=9)\n",
    "\n",
    "# Setting up the graph\n",
    "ax.set_title('Comparison of Successful and Lost Deals')\n",
    "ax.set_xlabel('Deal Owner Name')\n",
    "ax.set_ylabel('Number of deals')\n",
    "ax.tick_params(axis='x', rotation=90)\n",
    "ax.legend(loc='best')\n",
    "\n",
    "# Optimization and display\n",
    "plt.tight_layout()\n",
    "plt.show()"
   ]
  },
  {
   "cell_type": "markdown",
   "id": "87889b50-5c69-471a-96e8-d1e31ce0692e",
   "metadata": {},
   "source": [
    "# Conversion Chart by Employees"
   ]
  },
  {
   "cell_type": "code",
   "execution_count": null,
   "id": "f15a0f91-2f0f-4ca3-84b3-f0d4fec3b726",
   "metadata": {},
   "outputs": [],
   "source": [
    "# Grouping data by sources\n",
    "source_data = deals.groupby('Deal Owner Name', observed=True).agg(\n",
    "    total_leads=('Id', 'count'),\n",
    "    completed_leads=('Stage', lambda x: (x == 'Payment Done').sum())\n",
    ").reset_index()\n",
    "\n",
    "# Calculating the conversion percentage\n",
    "source_data['Completed_leads(%)'] = (source_data['completed_leads'] / source_data['total_leads']) * 100\n",
    "average_conversion = source_data['Completed_leads(%)'].mean()\n",
    "\n",
    "# Sorting by total number of leads in descending order\n",
    "source_data = source_data.sort_values('total_leads', ascending=False)\n",
    "\n",
    "# Selecting the 10 most successful campaigns\n",
    "top_10_campaigns = source_data.head(20)\n",
    "\n",
    "# Creating the chart\n",
    "plt.figure(figsize=(10, 8))\n",
    "ax = plt.gca()\n",
    "\n",
    "# Bars for the total number of leads\n",
    "ax.bar(top_10_campaigns['Deal Owner Name'], top_10_campaigns['total_leads'], color='brown', label='Total Deals')\n",
    "# Bars for successful leads (overlay)\n",
    "ax.bar(top_10_campaigns['Deal Owner Name'], top_10_campaigns['completed_leads'], color='orange', label='Completed Deals')\n",
    "\n",
    "# Line for the conversion percentage\n",
    "ax2 = ax.twinx()\n",
    "ax2.plot(top_10_campaigns['Deal Owner Name'], top_10_campaigns['Completed_leads(%)'], color='blue', marker='o', linestyle='-.', label='Conversion Percentage')\n",
    "\n",
    "# Adding numbers above the bars\n",
    "for i, v in enumerate(top_10_campaigns['total_leads']):\n",
    "    ax.text(i, v + 10, str(int(v)), ha='center')\n",
    "for i, v in enumerate(top_10_campaigns['completed_leads']):\n",
    "    ax.text(i, v + 10, str(int(v)), ha='center', color='white')\n",
    "\n",
    "# Setting up the chart\n",
    "ax.set_title('Conversion by Employees')\n",
    "ax.set_xlabel('')\n",
    "ax.set_ylabel('Number of Deals')\n",
    "ax.tick_params(axis='x', rotation=90)\n",
    "ax.legend(loc='center left', bbox_to_anchor=(0.5, 0.95), ncol=1)\n",
    "\n",
    "# Adding text with the average conversion\n",
    "ax.text(0.5, max(top_10_campaigns['total_leads']) * 1.1, f'Average Conversion: {average_conversion:.2f}%', ha='center', fontsize=12, color='black')\n",
    "\n",
    "ax2.legend(loc='center right', bbox_to_anchor=(0.5, 0.95), ncol=3)\n",
    "\n",
    "# Optimization and display\n",
    "plt.tight_layout()\n",
    "plt.show()"
   ]
  },
  {
   "cell_type": "markdown",
   "id": "66e6de6b-72ce-44a3-b833-9566aa2e0fcb",
   "metadata": {},
   "source": [
    "# Chart of Total Sales by Managers and Top-10 Campaigns"
   ]
  },
  {
   "cell_type": "markdown",
   "id": "221b8506-b138-4a2e-9658-62e42b0d2665",
   "metadata": {},
   "source": [
    "# Heatmap of Manager Performance"
   ]
  },
  {
   "cell_type": "code",
   "execution_count": null,
   "id": "6a54c4fd-5a0c-4703-a534-77971627082e",
   "metadata": {},
   "outputs": [],
   "source": [
    "offer_amount_heatmap_data = deals[deals['Campaign'] != 'Unknown'].groupby(['Deal Owner Name', 'Campaign']).agg(\n",
    "    total_offer_amount=('Offer Total Amount', 'sum')\n",
    ").reset_index()\n",
    "\n",
    "top_campaigns = offer_amount_heatmap_data.groupby('Campaign')['total_offer_amount'].sum().sort_values(ascending=False).head(10).index\n",
    "\n",
    "filtered_owner_campaigns = offer_amount_heatmap_data[offer_amount_heatmap_data['Campaign'].isin(top_campaigns)]\n",
    "\n",
    "offer_amount_heatmap_data = filtered_owner_campaigns.pivot_table(\n",
    "    values='total_offer_amount',\n",
    "    index='Deal Owner Name',\n",
    "    columns='Campaign',\n",
    "    aggfunc='sum',\n",
    "    fill_value=0\n",
    ")\n",
    "\n",
    "offer_amount_heatmap_data = offer_amount_heatmap_data.loc[\n",
    "    (offer_amount_heatmap_data.sum(axis=1) > 0),\n",
    "    (offer_amount_heatmap_data.sum(axis=0) > 0)\n",
    "]\n",
    "\n",
    "plt.figure(figsize=(14, 8))\n",
    "sns.heatmap(offer_amount_heatmap_data, annot=True, cmap='YlOrRd', fmt='.1f', cbar=True, linewidths=0.5)\n",
    "plt.title('Total Sales Amount by Managers and Top 10 Campaigns')\n",
    "plt.xticks(rotation=-45)\n",
    "plt.yticks(rotation=0)\n",
    "plt.tight_layout()\n",
    "plt.show()"
   ]
  },
  {
   "cell_type": "markdown",
   "id": "72c702bb-cd21-470c-a7b1-1c0f8e2b36fb",
   "metadata": {},
   "source": [
    "# Summary table of deal manager performance indicators"
   ]
  },
  {
   "cell_type": "code",
   "execution_count": null,
   "id": "7913bda8-1562-452f-91ee-9d3555cdf056",
   "metadata": {},
   "outputs": [],
   "source": [
    "# Grouping data by deal owners\n",
    "campaign_data = deals.groupby('Deal Owner Name').agg(\n",
    "    total_leads=('Id', 'count'),  # Total number of leads\n",
    "    completed_leads=('Stage', lambda x: (x == 'Payment Done').sum()),  # Completed leads\n",
    "    total_sales=('Initial Amount Paid', 'sum'),\n",
    "    total_offer_amount=('Offer Total Amount', 'sum')\n",
    ").reset_index()\n",
    "\n",
    "# Calculating the percentage of completed deals\n",
    "campaign_data['Completed_leads(%)'] = (campaign_data['completed_leads'] / campaign_data['total_leads']) * 100\n",
    "\n",
    "# Sorting by descending Completed_leads(%)\n",
    "campaign_data = campaign_data.sort_values('Completed_leads(%)', ascending=False)\n",
    "\n",
    "# Formatting the table for display\n",
    "styled_campaign_data = (campaign_data.style\n",
    "    .hide(axis='index')\n",
    "    .format({\n",
    "        'total_leads': '{:,.0f}',\n",
    "        'completed_leads': '{:,.0f}',\n",
    "        'total_sales': '${:,.2f}',\n",
    "        'total_offer_amount': '${:,.2f}',\n",
    "        'Completed_leads(%)': '{:.1f}%'\n",
    "    })\n",
    "    .background_gradient(subset=['Completed_leads(%)', 'total_sales', 'total_offer_amount'], cmap='YlOrRd')\n",
    "    .set_properties(**{'text-align': 'center'})\n",
    "    .set_table_styles([\n",
    "        {'selector': 'th', 'props': [('font-weight', 'bold'), ('text-align', 'center')]},\n",
    "        {'selector': 'td', 'props': [('text-align', 'center')]}\n",
    "    ]).bar(subset=['total_leads', 'completed_leads'], color='#F4A261', align='mid')\n",
    ")\n",
    "\n",
    "display(styled_campaign_data)"
   ]
  },
  {
   "cell_type": "markdown",
   "id": "1a42f775-5597-4c19-9070-5481e361dc82",
   "metadata": {},
   "source": [
    "# Conclusions\n",
    "1. Effectiveness of Deal Owners\n",
    "The analysis of the effectiveness of deal owners (Deal Owner Name) and advertising campaigns based on the provided data reveals key differences in performance. Deal owners handled between 1 and 2,963 leads, with conversion rates ranging from 0% to 30.7% and total sales amounts from $0 to $5,117,800.00.\n",
    "\n",
    "- The most effective in terms of conversion was **Oliver Taylor** with 30.7% (50 successful deals out of 163 leads) and total sales of $152,650.00, highlighting his exceptional ability to close deals with a relatively small volume of leads.\n",
    "\n",
    "- However, in terms of the number of leads processed, **Charlie Davis** (2,963 leads) and **Ulysses Adams** (2,165 leads) lead the way. Their conversion rates are 5% and 6.5%, respectively, with sales amounts of $3,822,500.00 and $5,117,800.00, making them leaders in overall contribution to total sales.\n",
    "\n",
    "- Among the less active operators, such as **John Doe** (20 leads, 5% conversion) or **George King** (94 leads, 2.1% conversion), low sales amounts ($4,600.00 and $2,900.00, respectively) are noticeable, indicating limited effectiveness.\n",
    "\n",
    "- Operators with zero conversion, such as **Amy Green**, **Alice Johnson**, **Sam Young**, **Rachel White**, and others, require a review of strategy, as they did not close any deals while processing leads. For example, **Rachel White** processed 871 leads but did not close a single deal, resulting in total sales of only $14,000.00.\n",
    "\n",
    "#### Conclusion\n",
    "The analysis showed that the most effective deal owners are **Oliver Taylor**, **Ulysses Adams**, and **Charlie Davis**, who demonstrate high results in both sales volume and conversion rate. However, there is significant potential for improvement among owners with low effectiveness, especially those who have not closed any deals.\n",
    "\n",
    "Recommendations:\n",
    "1. Conduct training for deal owners to enhance their lead management skills.\n",
    "2. Optimize the lead distribution strategy to focus on more promising operators.\n",
    "3. Analyze the reasons for low conversion rates among operators with a large number of leads, such as **Rachel White** and **Nina Scott**, to address potential issues."
   ]
  }
 ],
 "metadata": {
  "kernelspec": {
   "display_name": "Python 3 (ipykernel)",
   "language": "python",
   "name": "python3"
  },
  "language_info": {
   "codemirror_mode": {
    "name": "ipython",
    "version": 3
   },
   "file_extension": ".py",
   "mimetype": "text/x-python",
   "name": "python",
   "nbconvert_exporter": "python",
   "pygments_lexer": "ipython3",
   "version": "3.12.5"
  },
  "widgets": {
   "application/vnd.jupyter.widget-state+json": {
    "state": {},
    "version_major": 2,
    "version_minor": 0
   }
  }
 },
 "nbformat": 4,
 "nbformat_minor": 5
}
